{
 "cells": [
  {
   "cell_type": "code",
   "execution_count": 1,
   "id": "5895be64-f8db-41d5-9674-7b38979d748d",
   "metadata": {},
   "outputs": [],
   "source": [
    "import geopandas as gpd"
   ]
  },
  {
   "cell_type": "code",
   "execution_count": 2,
   "id": "6dfc5e1a-f244-4337-885e-a032fe7f81fb",
   "metadata": {},
   "outputs": [
    {
     "name": "stdout",
     "output_type": "stream",
     "text": [
      "/Users/srey/para/1_projects/course_385_spatial_data_analysis_f23/385f23/385f23/lectures/week-12\n"
     ]
    }
   ],
   "source": [
    "!pwd"
   ]
  },
  {
   "cell_type": "code",
   "execution_count": null,
   "id": "e9b256a8-9787-4780-810e-a83a54b80df9",
   "metadata": {},
   "outputs": [],
   "source": [
    "roads = gpd.read_file('data/roa"
   ]
  }
 ],
 "metadata": {
  "kernelspec": {
   "display_name": "Python 3 (ipykernel)",
   "language": "python",
   "name": "python3"
  },
  "language_info": {
   "codemirror_mode": {
    "name": "ipython",
    "version": 3
   },
   "file_extension": ".py",
   "mimetype": "text/x-python",
   "name": "python",
   "nbconvert_exporter": "python",
   "pygments_lexer": "ipython3",
   "version": "3.11.6"
  }
 },
 "nbformat": 4,
 "nbformat_minor": 5
}
