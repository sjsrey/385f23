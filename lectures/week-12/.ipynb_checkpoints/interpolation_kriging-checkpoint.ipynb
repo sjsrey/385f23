{
 "cells": [
  {
   "cell_type": "markdown",
   "id": "6af6de38-4938-491e-a782-bf08b2c40c80",
   "metadata": {},
   "source": [
    "# Spatial Interpolation: Kriging\n",
    "\n",
    "- non-deterministic interpolation\n",
    "- measures of uncertainty"
   ]
  },
  {
   "cell_type": "code",
   "execution_count": null,
   "id": "915ba032-f1c3-45a6-a339-0f3a2d2c4534",
   "metadata": {},
   "outputs": [],
   "source": [
    "import matplotlib.pyplot as plt\n",
    "plt.rcParams[\"figure.figsize\"] = (16, 9)\n"
   ]
  },
  {
   "cell_type": "code",
   "execution_count": null,
   "id": "aa389b08-efc8-432c-a35a-f8aa3cebf9e2",
   "metadata": {},
   "outputs": [],
   "source": [
    "import rasterio"
   ]
  },
  {
   "cell_type": "code",
   "execution_count": null,
   "id": "605dac0c-1b2e-4acd-9925-4a21a24de332",
   "metadata": {},
   "outputs": [],
   "source": [
    "from rasterio.mask import mask\n",
    "import geopandas as gpd\n",
    "import fiona\n",
    "import pandas as pd\n",
    "import pykrige"
   ]
  },
  {
   "cell_type": "code",
   "execution_count": null,
   "id": "ea4d1ebc-f6c8-49aa-8858-94b91396f4d8",
   "metadata": {},
   "outputs": [],
   "source": [
    "precip = gpd.read_file(\"precip_sd.geojson\")\n"
   ]
  },
  {
   "cell_type": "code",
   "execution_count": null,
   "id": "2d6ddb1e-24dc-4a2d-aa2c-2732a0b5dbdd",
   "metadata": {},
   "outputs": [],
   "source": [
    "precip.plot(column='inches', legend=True);"
   ]
  },
  {
   "cell_type": "code",
   "execution_count": null,
   "id": "0852e6d5-beb3-4fe0-9cbf-6158241e12e8",
   "metadata": {},
   "outputs": [],
   "source": [
    "county = gpd.read_file(\"sdcounty.geojson\")"
   ]
  },
  {
   "cell_type": "code",
   "execution_count": null,
   "id": "281ca700-1735-44ec-b036-ed2252bb2ba2",
   "metadata": {
    "scrolled": true
   },
   "outputs": [],
   "source": [
    "m = county.explore()\n",
    "precip.explore(column='inches', m=m)\n"
   ]
  },
  {
   "cell_type": "markdown",
   "id": "5baa4f66-2927-4611-8adf-a78e03cc0ce8",
   "metadata": {},
   "source": [
    "### Interpolate to Grids\n"
   ]
  },
  {
   "cell_type": "code",
   "execution_count": null,
   "id": "1e52b163-9fbb-4050-80c2-a713817f0be7",
   "metadata": {},
   "outputs": [],
   "source": [
    "import tobler"
   ]
  },
  {
   "cell_type": "code",
   "execution_count": null,
   "id": "c0c3e17a-4fee-4e94-8195-3f74675c3225",
   "metadata": {},
   "outputs": [],
   "source": [
    "county_utm = county.to_crs(county.estimate_utm_crs())\n",
    "precip_utm = precip.to_crs(precip.estimate_utm_crs())"
   ]
  },
  {
   "cell_type": "code",
   "execution_count": null,
   "id": "03746554-d397-4f40-996c-c1cdfbbd4c34",
   "metadata": {},
   "outputs": [],
   "source": [
    "from tobler.util import h3fy\n"
   ]
  },
  {
   "cell_type": "code",
   "execution_count": null,
   "id": "2d3e7982-9d34-4566-8f50-1b1e58e6be91",
   "metadata": {},
   "outputs": [],
   "source": [
    "county_h3 = h3fy(county_utm)"
   ]
  },
  {
   "cell_type": "code",
   "execution_count": null,
   "id": "a88a11b2-230f-45e2-9b82-b9ec3bac6328",
   "metadata": {},
   "outputs": [],
   "source": [
    "county_h3.plot()"
   ]
  },
  {
   "cell_type": "code",
   "execution_count": null,
   "id": "ab4628b9-99cf-48ec-8086-d823518e02cd",
   "metadata": {},
   "outputs": [],
   "source": [
    "m = county_h3.plot(color='grey')\n",
    "precip_utm.plot(column='inches', ax=m, legend=True);"
   ]
  },
  {
   "cell_type": "code",
   "execution_count": null,
   "id": "6619154e-ef67-4531-9ed2-ed2fd8fb482d",
   "metadata": {},
   "outputs": [],
   "source": [
    "county_h3.shape"
   ]
  },
  {
   "cell_type": "code",
   "execution_count": null,
   "id": "d5cfb60c-ad3b-4651-9563-6f17d227527a",
   "metadata": {},
   "outputs": [],
   "source": [
    "import pykrige.kriging_tools as kt\n",
    "from pykrige.ok import OrdinaryKriging\n",
    "import numpy\n",
    "\n",
    "data = numpy.array(\n",
    "    [\n",
    "        [0.3, 1.2, 0.47],\n",
    "        [1.9, 0.6, 0.56],\n",
    "        [1.1, 3.2, 0.74],\n",
    "        [3.3, 4.4, 1.47],\n",
    "        [4.7, 3.8, 1.74],\n",
    "    ]\n",
    ")\n",
    "\n",
    "gridx = numpy.arange(0.0, 5.5, 0.5)\n",
    "gridy = numpy.arange(0.0, 5.5, 0.5)"
   ]
  },
  {
   "cell_type": "code",
   "execution_count": null,
   "id": "63ef5efb-d50f-4046-873c-6aee6b39b309",
   "metadata": {},
   "outputs": [],
   "source": [
    "OK = OrdinaryKriging(\n",
    "    data[:, 0],\n",
    "    data[:, 1],\n",
    "    data[:, 2],\n",
    "    variogram_model=\"linear\",\n",
    "    verbose=False,\n",
    "    enable_plotting=False,\n",
    ")\n"
   ]
  },
  {
   "cell_type": "code",
   "execution_count": null,
   "id": "768e1d73-8287-4e09-80d4-ea5f1bfa8766",
   "metadata": {},
   "outputs": [],
   "source": [
    "z, ss = OK.execute(\"grid\", gridx, gridy)\n"
   ]
  },
  {
   "cell_type": "code",
   "execution_count": null,
   "id": "4f336f11-5574-4d94-9801-6174d3fbc9a6",
   "metadata": {},
   "outputs": [],
   "source": [
    "kt.write_asc_grid(gridx, gridy, z, filename=\"output.asc\")\n",
    "plt.imshow(z)\n",
    "plt.show()"
   ]
  },
  {
   "cell_type": "code",
   "execution_count": null,
   "id": "95069ea3-1c84-4726-9669-07a34d2e3a8f",
   "metadata": {},
   "outputs": [],
   "source": [
    "OK.display_variogram_model()"
   ]
  },
  {
   "cell_type": "code",
   "execution_count": null,
   "id": "827d3fde-f1fb-4612-ab49-8bb8ccac67b9",
   "metadata": {},
   "outputs": [],
   "source": [
    "# on our data"
   ]
  },
  {
   "cell_type": "code",
   "execution_count": null,
   "id": "ecfabb49-0e90-4b56-b254-cc6d91a80b48",
   "metadata": {},
   "outputs": [],
   "source": [
    "# need data as an array x, y, z\n",
    "xy = precip_utm.get_coordinates().values\n",
    "xy"
   ]
  },
  {
   "cell_type": "code",
   "execution_count": null,
   "id": "13302116-a2e6-4853-9c19-8dbba82625fe",
   "metadata": {},
   "outputs": [],
   "source": [
    "z = precip_utm.inches.values\n",
    "z"
   ]
  },
  {
   "cell_type": "code",
   "execution_count": null,
   "id": "16032a2e-a890-4c35-b1f0-4406b82d8db7",
   "metadata": {},
   "outputs": [],
   "source": [
    "z = z.reshape(-1, 1)\n"
   ]
  },
  {
   "cell_type": "code",
   "execution_count": null,
   "id": "44c6d20b-d562-49d3-ba63-50ef98630ecc",
   "metadata": {},
   "outputs": [],
   "source": [
    "data = numpy.hstack([xy,z])"
   ]
  },
  {
   "cell_type": "code",
   "execution_count": null,
   "id": "90bca8f1-3eab-4857-b4db-ddd912e411e2",
   "metadata": {},
   "outputs": [],
   "source": [
    "OK = OrdinaryKriging(\n",
    "    data[:, 0],\n",
    "    data[:, 1],\n",
    "    data[:, 2],\n",
    "    variogram_model='gaussian',\n",
    "    verbose=False,\n",
    "    enable_plotting=False\n",
    ")"
   ]
  },
  {
   "cell_type": "code",
   "execution_count": null,
   "id": "7ede5819-1611-4d59-817f-950bb2aa89d1",
   "metadata": {},
   "outputs": [],
   "source": [
    "OK.display_variogram_model()"
   ]
  },
  {
   "cell_type": "code",
   "execution_count": null,
   "id": "373653f7-5c64-430b-9fc0-f88dde8a9cd2",
   "metadata": {},
   "outputs": [],
   "source": [
    "data.shape"
   ]
  },
  {
   "cell_type": "code",
   "execution_count": null,
   "id": "cf136c69-82dc-49dd-8a59-cacdf3d70eeb",
   "metadata": {},
   "outputs": [],
   "source": [
    "OK.get_variogram_points()"
   ]
  },
  {
   "cell_type": "code",
   "execution_count": null,
   "id": "1a4cf837-ab82-4f9f-97ae-f44903166ce4",
   "metadata": {},
   "outputs": [],
   "source": [
    "OK.print_statistics()"
   ]
  },
  {
   "cell_type": "code",
   "execution_count": null,
   "id": "dae9190a-4549-4680-ae6b-42e809123a89",
   "metadata": {},
   "outputs": [],
   "source": []
  },
  {
   "cell_type": "code",
   "execution_count": null,
   "id": "2fb4121e-aeb6-4285-b18a-217abd8fe64d",
   "metadata": {},
   "outputs": [],
   "source": [
    "targetxy = county_h3.centroid.get_coordinates().values\n",
    "targetxy"
   ]
  },
  {
   "cell_type": "code",
   "execution_count": null,
   "id": "da91e194-134a-4523-822d-5b800cb1580f",
   "metadata": {},
   "outputs": [],
   "source": [
    "z, ss = OK.execute('points', targetxy[:,0], targetxy[:,1])"
   ]
  },
  {
   "cell_type": "code",
   "execution_count": null,
   "id": "d63a776c-ea23-43f7-998e-7198efe456d1",
   "metadata": {},
   "outputs": [],
   "source": [
    "z"
   ]
  },
  {
   "cell_type": "code",
   "execution_count": null,
   "id": "18a0c120-10af-4004-834f-42b757597bd0",
   "metadata": {},
   "outputs": [],
   "source": [
    "z.data.shape"
   ]
  },
  {
   "cell_type": "code",
   "execution_count": null,
   "id": "56833e0d-af54-461c-a910-75a7bb6ceaad",
   "metadata": {},
   "outputs": [],
   "source": [
    "targetxy.shape"
   ]
  },
  {
   "cell_type": "code",
   "execution_count": null,
   "id": "735a311a-953f-46ec-8f43-0375157063d8",
   "metadata": {},
   "outputs": [],
   "source": [
    "county_h3['ok_est'] = z.data"
   ]
  },
  {
   "cell_type": "code",
   "execution_count": null,
   "id": "e2815440-43ce-4521-bf0c-ee64caf6103e",
   "metadata": {},
   "outputs": [],
   "source": [
    "county_h3.plot(column='ok_est')"
   ]
  },
  {
   "cell_type": "markdown",
   "id": "1a8c64d7-be64-45cf-8053-127a5083933a",
   "metadata": {},
   "source": [
    "### Nearest neighbor"
   ]
  },
  {
   "cell_type": "code",
   "execution_count": null,
   "id": "8e35f893-6206-4498-b81a-2f8d81dca16b",
   "metadata": {},
   "outputs": [],
   "source": [
    "hcents = county_h3.centroid\n"
   ]
  },
  {
   "cell_type": "code",
   "execution_count": null,
   "id": "4f980f23-c741-4a8f-824f-4504f1e61462",
   "metadata": {},
   "outputs": [],
   "source": [
    "m = hcents.plot(color='r')\n",
    "precip_utm.plot(column='inches', ax=m, legend=True);"
   ]
  },
  {
   "cell_type": "code",
   "execution_count": null,
   "id": "02ec51f1-c754-4a64-aef1-92332517cdab",
   "metadata": {},
   "outputs": [],
   "source": [
    "gpd.sjoin_nearest(county_h3, precip_utm, distance_col=\"distances\",\n",
    "    lsuffix=\"left\", rsuffix=\"right\", exclusive=True)"
   ]
  },
  {
   "cell_type": "code",
   "execution_count": null,
   "id": "c6203162-17e5-4433-bc91-b3d8f5d97dfb",
   "metadata": {},
   "outputs": [],
   "source": [
    "county_h3.shape"
   ]
  },
  {
   "cell_type": "code",
   "execution_count": null,
   "id": "bf8eab3d-019e-4597-9170-054ef2713438",
   "metadata": {},
   "outputs": [],
   "source": [
    "county_h3['nn1_est'] = gpd.sjoin_nearest(county_h3, precip_utm, distance_col=\"distances\",\n",
    "    lsuffix=\"left\", rsuffix=\"right\", exclusive=True).inches"
   ]
  },
  {
   "cell_type": "code",
   "execution_count": null,
   "id": "0453f07f-8628-403c-b0f4-638e86e307fa",
   "metadata": {},
   "outputs": [],
   "source": [
    "county_h3.plot(column='nn1_est', legend=True);"
   ]
  },
  {
   "cell_type": "markdown",
   "id": "030007a6-d1fb-4aea-a1a4-9e33c36ec521",
   "metadata": {},
   "source": [
    "### Knn5"
   ]
  },
  {
   "cell_type": "code",
   "execution_count": null,
   "id": "ea0178fb-37df-41ad-be70-069e0050d92c",
   "metadata": {},
   "outputs": [],
   "source": [
    "X = [[0], [1], [2], [3]]\n",
    "y = [0, 0, 1, 1]\n",
    "from sklearn.neighbors import KNeighborsRegressor\n",
    "neigh = KNeighborsRegressor(n_neighbors=2)\n",
    "neigh.fit(X, y)\n",
    "print(neigh.predict([[1.5]]))\n",
    "\n"
   ]
  },
  {
   "cell_type": "code",
   "execution_count": null,
   "id": "f1a16074-a712-423b-ad61-6c7d8c148f77",
   "metadata": {},
   "outputs": [],
   "source": [
    "# Set number of neighbors to use\n",
    "neighbors = 5\n",
    "\n",
    "# Initialize KNN regressor\n",
    "knn_regressor = KNeighborsRegressor(n_neighbors = neighbors, weights = \"uniform\") # no distance decay distance\n",
    "\n",
    "# Fit to observed locations\n",
    "knn_regressor.fit(precip_utm.get_coordinates(), precip_utm.inches)"
   ]
  },
  {
   "cell_type": "code",
   "execution_count": null,
   "id": "18fdd391-d371-48c5-82dc-b4f0b59e2ea4",
   "metadata": {},
   "outputs": [],
   "source": [
    "knn_regressor.predict(hcents.get_coordinates())\n"
   ]
  },
  {
   "cell_type": "code",
   "execution_count": null,
   "id": "9899cb88-a6fe-45fd-a009-c0b89a98f7e2",
   "metadata": {},
   "outputs": [],
   "source": [
    "county_h3['nn5_est'] = knn_regressor.predict(hcents.get_coordinates())\n"
   ]
  },
  {
   "cell_type": "code",
   "execution_count": null,
   "id": "8602b20a-03e2-4c6f-87ba-512222eaedc3",
   "metadata": {},
   "outputs": [],
   "source": [
    "county_h3.plot(column='nn5_est', legend=True);"
   ]
  },
  {
   "cell_type": "code",
   "execution_count": null,
   "id": "4c92a11b-beec-4763-a811-9e9085522256",
   "metadata": {},
   "outputs": [],
   "source": [
    "import matplotlib.pyplot as plt\n",
    "f, (ax1, ax2) = plt.subplots(1, 2, sharey=True)\n",
    "county_h3.plot(column='nn1_est',ax=ax1)\n",
    "county_h3.plot(column='nn5_est',ax=ax2)\n",
    "ax1.set_title(\"knn=1\")\n",
    "ax2.set_title(\"knn=5\");\n",
    "\n"
   ]
  },
  {
   "cell_type": "code",
   "execution_count": null,
   "id": "ff8b88c6-50d5-4131-8634-495b95bfc8df",
   "metadata": {},
   "outputs": [],
   "source": [
    "# Set number of neighbors to use\n",
    "neighbors = 5\n",
    "\n",
    "# Initialize KNN regressor\n",
    "knn_regressor = KNeighborsRegressor(n_neighbors = neighbors, weights = \"distance\") # inverse distance weighting\n",
    "# Fit to observed locations\n",
    "knn_regressor.fit(precip_utm.get_coordinates(), precip_utm.inches)"
   ]
  },
  {
   "cell_type": "code",
   "execution_count": null,
   "id": "d0960481-6312-401a-804b-78a6caed3dcc",
   "metadata": {},
   "outputs": [],
   "source": [
    "county_h3['nn5id_est'] = knn_regressor.predict(hcents.get_coordinates())\n"
   ]
  },
  {
   "cell_type": "code",
   "execution_count": null,
   "id": "6ac51cef-f3e7-46da-bece-f5c93426cfd2",
   "metadata": {},
   "outputs": [],
   "source": [
    "f, (ax1, ax2) = plt.subplots(1, 2, sharey=True)\n",
    "county_h3.plot(column='nn5_est',ax=ax1)\n",
    "county_h3.plot(column='nn5id_est',ax=ax2)\n",
    "ax1.set_title(\"knn=5 (Unweighted)\")\n",
    "ax2.set_title(\"knn=5 (Inverse Distance Weights)\");\n"
   ]
  },
  {
   "cell_type": "markdown",
   "id": "aa67e3a2-54b8-41ae-890b-9f50aab1d30e",
   "metadata": {},
   "source": [
    "## Fit"
   ]
  },
  {
   "cell_type": "code",
   "execution_count": null,
   "id": "6c64746b-17bf-4b6c-95fe-da83ab53769a",
   "metadata": {},
   "outputs": [],
   "source": [
    "h3_cents = county_h3.centroid\n",
    "import rioxarray\n",
    "import rasterio"
   ]
  },
  {
   "cell_type": "code",
   "execution_count": null,
   "id": "56876da3-1d14-47bc-8d42-e052d241e785",
   "metadata": {},
   "outputs": [],
   "source": [
    "# get observed values for all grid cells\n",
    "\n",
    "\n",
    "clipped = rasterio.open(\"clipped_example.tif\")"
   ]
  },
  {
   "cell_type": "code",
   "execution_count": null,
   "id": "4761d049-c123-4f2a-9c42-ec2df37abbdd",
   "metadata": {},
   "outputs": [],
   "source": [
    "clipped.meta"
   ]
  },
  {
   "cell_type": "code",
   "execution_count": null,
   "id": "bdf5032b-e5a1-4ad8-9b26-a891e6323ca5",
   "metadata": {},
   "outputs": [],
   "source": [
    "h3_cents_4326 = h3_cents.to_crs(clipped.meta['crs'])\n",
    "cp = h3_cents_4326\n",
    "coord_list = [(x, y) for x, y in zip(cp.x, cp.y)]\n"
   ]
  },
  {
   "cell_type": "code",
   "execution_count": null,
   "id": "5013ca10-3daf-4b96-90b1-71df51c297c4",
   "metadata": {},
   "outputs": [],
   "source": [
    "observations = [x[0] for x in clipped.sample(coord_list)]\n",
    "county_h3['inches'] = observations"
   ]
  },
  {
   "cell_type": "code",
   "execution_count": null,
   "id": "c531ad62-3f3d-4bbd-b3ee-2aefe8ff8fdd",
   "metadata": {},
   "outputs": [],
   "source": [
    "county_h3.plot(column='inches', legend=True)"
   ]
  },
  {
   "cell_type": "code",
   "execution_count": null,
   "id": "28c119b0-8ebd-44ab-a31b-1d1fa360251d",
   "metadata": {},
   "outputs": [],
   "source": [
    "# calculate fit for each approach (MAPE)\n",
    "def mape(est, obs):\n",
    "    err = est-obs\n",
    "    aerr = numpy.abs(err)\n",
    "    den = obs + (obs == 0)\n",
    "    paerr = aerr / den\n",
    "    paerr *= 100\n",
    "    return paerr.mean()"
   ]
  },
  {
   "cell_type": "code",
   "execution_count": null,
   "id": "a5b5c96f-427f-4590-ab6f-0b7e744fd5ea",
   "metadata": {},
   "outputs": [],
   "source": [
    "mape(county_h3.nn1_est, county_h3.inches)"
   ]
  },
  {
   "cell_type": "code",
   "execution_count": null,
   "id": "44513755-47b9-461d-9de3-44009235ff1e",
   "metadata": {},
   "outputs": [],
   "source": [
    "mape(county_h3.nn5_est, county_h3.inches)"
   ]
  },
  {
   "cell_type": "code",
   "execution_count": null,
   "id": "b37d5d4d-3bda-4166-8676-e980bd566c18",
   "metadata": {},
   "outputs": [],
   "source": [
    "mape(county_h3.nn5id_est, county_h3.inches)"
   ]
  },
  {
   "cell_type": "code",
   "execution_count": null,
   "id": "c49d78b5-4db4-4e24-9d31-d5ef66914e86",
   "metadata": {},
   "outputs": [],
   "source": [
    "mape(county_h3.ok_est, county_h3.inches)"
   ]
  },
  {
   "cell_type": "code",
   "execution_count": null,
   "id": "00fce7f4-5089-4503-8adf-a8fdd9f285ee",
   "metadata": {},
   "outputs": [],
   "source": [
    "# plot fit\n"
   ]
  },
  {
   "cell_type": "code",
   "execution_count": null,
   "id": "f49dbf75-24b6-4688-8577-bf11a7381e1e",
   "metadata": {},
   "outputs": [],
   "source": [
    "# map errors for different models"
   ]
  },
  {
   "cell_type": "code",
   "execution_count": null,
   "id": "fa8813f6-f38a-465a-bc86-eebd58270b0e",
   "metadata": {},
   "outputs": [],
   "source": [
    "en1 = county_h3.nn1_est - county_h3.inches\n",
    "\n",
    "county_h3['nn1_error'] = en1\n",
    "\n",
    "county_h3.plot(column='nn1_error', legend=True, cmap='coolwarm')"
   ]
  },
  {
   "cell_type": "code",
   "execution_count": null,
   "id": "afe1cad7-3cf7-4d0b-b87e-f53014504c9b",
   "metadata": {},
   "outputs": [],
   "source": [
    "en5id = county_h3.nn5id_est - county_h3.inches\n",
    "\n",
    "county_h3['nn5id_error'] = en5id\n",
    "\n",
    "county_h3.plot(column='nn5id_error', legend=True, cmap='coolwarm')"
   ]
  },
  {
   "cell_type": "code",
   "execution_count": null,
   "id": "1fe2261b-ee98-4850-873c-520b6281d36f",
   "metadata": {},
   "outputs": [],
   "source": [
    "import seaborn as sns"
   ]
  },
  {
   "cell_type": "code",
   "execution_count": null,
   "id": "ff2add33-a418-444d-bf25-8937850c0e45",
   "metadata": {},
   "outputs": [],
   "source": [
    "sns.scatterplot(x=county_h3.inches, y=county_h3.nn5id_error);"
   ]
  },
  {
   "cell_type": "markdown",
   "id": "eddcea9b-a6c2-47a8-bcb0-7ffe2506625f",
   "metadata": {},
   "source": [
    "WIP Below Here"
   ]
  },
  {
   "cell_type": "markdown",
   "id": "7610b1b9-9840-4149-92d6-a59b9b460505",
   "metadata": {},
   "source": [
    "### Surface to Area Interpolation"
   ]
  },
  {
   "cell_type": "markdown",
   "id": "8ed62e52-0dd6-4499-9b60-2623c6696eff",
   "metadata": {},
   "source": [
    "#### Spatial Join on Centroid"
   ]
  },
  {
   "cell_type": "code",
   "execution_count": null,
   "id": "1f4b77ac-bb0a-46fb-9663-b8e53530c76d",
   "metadata": {},
   "outputs": [],
   "source": [
    "cents = tracts.centroid"
   ]
  },
  {
   "cell_type": "code",
   "execution_count": null,
   "id": "a0426000-57e0-4a03-98d3-249915029361",
   "metadata": {},
   "outputs": [],
   "source": [
    "cents.plot()"
   ]
  },
  {
   "cell_type": "code",
   "execution_count": null,
   "id": "70aca1b7-8734-4cdd-9762-c73b39cfd309",
   "metadata": {},
   "outputs": [],
   "source": [
    "type(cents)"
   ]
  },
  {
   "cell_type": "code",
   "execution_count": null,
   "id": "c31e80fd-e31e-49da-a8e7-b025f469791f",
   "metadata": {},
   "outputs": [],
   "source": [
    "coord_list = [(x, y) for x, y in zip(cents.x, cents.y)]\n",
    "tracts['centest'] = [x[0] for x in clipped.sample(coord_list)]\n",
    "tracts.head()"
   ]
  },
  {
   "cell_type": "code",
   "execution_count": null,
   "id": "c293c121-3e86-43be-9f78-e89d7ce4c91f",
   "metadata": {},
   "outputs": [],
   "source": [
    "tracts['centroid'] = tracts.centroid\n",
    "tracts.set_geometry('centroid', inplace=True)"
   ]
  },
  {
   "cell_type": "code",
   "execution_count": null,
   "id": "81732445-01be-4ba1-aa81-e76504054490",
   "metadata": {},
   "outputs": [],
   "source": [
    "tracts.plot(column='centest', legend=True);"
   ]
  },
  {
   "cell_type": "code",
   "execution_count": null,
   "id": "5d1c2f32-eac7-4329-95fc-7f4c7e9f0810",
   "metadata": {},
   "outputs": [],
   "source": [
    "tracts.set_geometry('geometry', inplace=True)\n",
    "tracts.plot(column='centest', legend=True);"
   ]
  },
  {
   "cell_type": "markdown",
   "id": "4e5961e3-d350-4cdb-bfa8-32b54b008709",
   "metadata": {},
   "source": [
    "#### Zonal Methods of Surface to Area Interpolation"
   ]
  },
  {
   "cell_type": "code",
   "execution_count": null,
   "id": "ac2ded9e-73b1-4881-8607-a1e05c6f703e",
   "metadata": {},
   "outputs": [],
   "source": [
    "import rasterstats"
   ]
  },
  {
   "cell_type": "code",
   "execution_count": null,
   "id": "ff6b30ca-a329-4525-a872-2e99cb9913e2",
   "metadata": {},
   "outputs": [],
   "source": [
    "gdf.head()"
   ]
  },
  {
   "cell_type": "code",
   "execution_count": null,
   "id": "35e8c567-03df-44ef-8b17-0665cb940f32",
   "metadata": {},
   "outputs": [],
   "source": [
    "tracts.plot()"
   ]
  },
  {
   "cell_type": "code",
   "execution_count": null,
   "id": "b5d93e04-71f4-4924-b52a-c3a6bc6f09d5",
   "metadata": {},
   "outputs": [],
   "source": [
    "from rasterstats import zonal_stats\n",
    "tstats = zonal_stats(tracts, \"clipped_example.tif\",\n",
    "            stats=\"count min mean max median\")\n",
    "\n",
    "#elevations2 = zonal_stats(\n",
    "#    sd_tracts.to_crs(dem.rio.crs),  # Geotable with zones\n",
    "#    \"../data/nasadem/nasadem_sd.tif\",  # Path to surface file\n",
    "#)\n",
    "#elevations2 = pandas.DataFrame(elevations2)"
   ]
  },
  {
   "cell_type": "code",
   "execution_count": null,
   "id": "c05c97d4-668c-4838-b142-be9bbd7064b8",
   "metadata": {},
   "outputs": [],
   "source": [
    "tstats[:5]"
   ]
  },
  {
   "cell_type": "code",
   "execution_count": null,
   "id": "9021e6ae-44cf-44fe-b9d4-f62376fe2fa7",
   "metadata": {},
   "outputs": [],
   "source": [
    "tstats = pd.DataFrame(tstats)"
   ]
  },
  {
   "cell_type": "code",
   "execution_count": null,
   "id": "bb1ada38-f843-45cf-adb6-462cfa857c6c",
   "metadata": {},
   "outputs": [],
   "source": [
    "tstats.head()"
   ]
  },
  {
   "cell_type": "code",
   "execution_count": null,
   "id": "298f365d-e407-4557-86fc-81e20d7477dc",
   "metadata": {},
   "outputs": [],
   "source": [
    "tstats.shape"
   ]
  },
  {
   "cell_type": "code",
   "execution_count": null,
   "id": "475196c7-e9b3-4805-9c1e-8dac606b5b1c",
   "metadata": {},
   "outputs": [],
   "source": [
    "tracts.shape"
   ]
  },
  {
   "cell_type": "code",
   "execution_count": null,
   "id": "d4978fcf-3308-4241-8714-ebebc757a3ae",
   "metadata": {},
   "outputs": [],
   "source": [
    "tracts['mean'] = tstats['mean'].values\n",
    "tracts.plot(column='mean', legend=True);"
   ]
  },
  {
   "cell_type": "code",
   "execution_count": null,
   "id": "f3d4393a-6da1-45f9-9a93-553b21902f54",
   "metadata": {},
   "outputs": [],
   "source": [
    "tracts['median'] = tstats['median'].values\n",
    "tracts.plot(column='median', legend=True);"
   ]
  },
  {
   "cell_type": "code",
   "execution_count": null,
   "id": "c9b34403-9a7f-4cb1-94a7-1e103d0b1dc2",
   "metadata": {},
   "outputs": [],
   "source": [
    "tracts['range'] = tstats['max'].values - tstats['min'].values\n",
    "tracts.plot(column='range', legend=True);"
   ]
  },
  {
   "cell_type": "code",
   "execution_count": null,
   "id": "cac16f68-0741-4b08-8a16-c7546520b0b6",
   "metadata": {},
   "outputs": [],
   "source": [
    "import matplotlib.pyplot as plt"
   ]
  },
  {
   "cell_type": "code",
   "execution_count": null,
   "id": "f4b8d213-3ced-473e-bdba-08d6b5da2f6f",
   "metadata": {},
   "outputs": [],
   "source": [
    "import seaborn as sns"
   ]
  },
  {
   "cell_type": "code",
   "execution_count": null,
   "id": "013dc192-155f-4305-ac21-05688824e230",
   "metadata": {},
   "outputs": [],
   "source": [
    "sns.scatterplot(data=tracts, x='centest', y='mean')\n",
    "plt.plot([10, 40], [10, 40]);"
   ]
  },
  {
   "cell_type": "code",
   "execution_count": null,
   "id": "1c87472b-d5c6-4468-a829-ce05b0d1e41e",
   "metadata": {},
   "outputs": [],
   "source": [
    "sns.scatterplot(data=tracts, x='median', y='mean')\n",
    "plt.plot([10, 40], [10, 40]);"
   ]
  },
  {
   "cell_type": "code",
   "execution_count": null,
   "id": "b0d8ff01-58bd-4138-98bb-d4f4ddcfd3c3",
   "metadata": {},
   "outputs": [],
   "source": []
  }
 ],
 "metadata": {
  "kernelspec": {
   "display_name": "Python 3 (ipykernel)",
   "language": "python",
   "name": "python3"
  },
  "language_info": {
   "codemirror_mode": {
    "name": "ipython",
    "version": 3
   },
   "file_extension": ".py",
   "mimetype": "text/x-python",
   "name": "python",
   "nbconvert_exporter": "python",
   "pygments_lexer": "ipython3",
   "version": "3.10.12"
  }
 },
 "nbformat": 4,
 "nbformat_minor": 5
}
