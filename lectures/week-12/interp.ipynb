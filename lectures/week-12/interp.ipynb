{
 "cells": [
  {
   "cell_type": "code",
   "execution_count": null,
   "id": "aa389b08-efc8-432c-a35a-f8aa3cebf9e2",
   "metadata": {},
   "outputs": [],
   "source": [
    "import rasterio"
   ]
  },
  {
   "cell_type": "code",
   "execution_count": null,
   "id": "605dac0c-1b2e-4acd-9925-4a21a24de332",
   "metadata": {},
   "outputs": [],
   "source": [
    "from rasterio.mask import mask\n",
    "import geopandas as gpd\n",
    "import fiona\n",
    "import pandas as pd"
   ]
  },
  {
   "cell_type": "code",
   "execution_count": null,
   "id": "bd91e2d9-847a-4e7b-99b2-a1c236971e5f",
   "metadata": {},
   "outputs": [],
   "source": [
    "ras = 'data/stanford-td754wr4701-geotiff.tiff' # already interpolated but we will treat it as \"data\""
   ]
  },
  {
   "cell_type": "code",
   "execution_count": null,
   "id": "25e33dee-8240-4fda-840e-ec4c486fdce3",
   "metadata": {},
   "outputs": [],
   "source": [
    "shp = 'data/tl_2022_06073_faces.shp'"
   ]
  },
  {
   "cell_type": "code",
   "execution_count": null,
   "id": "e5733234-023f-46e6-8832-9b22c97dcb56",
   "metadata": {},
   "outputs": [],
   "source": [
    "gdf = gpd.read_file(shp)"
   ]
  },
  {
   "cell_type": "code",
   "execution_count": null,
   "id": "6bef241e-5794-4809-8a1a-0ef9a558e3c9",
   "metadata": {},
   "outputs": [],
   "source": [
    "gdf.shape"
   ]
  },
  {
   "cell_type": "code",
   "execution_count": null,
   "id": "101ea813-e332-424f-a3b7-cac78f6a53cf",
   "metadata": {},
   "outputs": [],
   "source": [
    "gdf.head()"
   ]
  },
  {
   "cell_type": "code",
   "execution_count": null,
   "id": "e1c72c71-28a9-4efe-b094-794ab3a51bdf",
   "metadata": {},
   "outputs": [],
   "source": [
    "county = gdf.dissolve(by='COUNTYFP20')"
   ]
  },
  {
   "cell_type": "code",
   "execution_count": null,
   "id": "442ff9ca-5a64-4ff0-9391-ca3a057c652a",
   "metadata": {},
   "outputs": [],
   "source": [
    "county.plot()"
   ]
  },
  {
   "cell_type": "code",
   "execution_count": null,
   "id": "8ab217b0-71eb-488b-a898-a49fdf246a65",
   "metadata": {},
   "outputs": [],
   "source": [
    "rast = rasterio.open(\"data/stanford-td754wr4701-geotiff.tiff\")"
   ]
  },
  {
   "cell_type": "code",
   "execution_count": null,
   "id": "40d1de95-722f-4c57-ae63-b401a16ac8de",
   "metadata": {},
   "outputs": [],
   "source": [
    "county = county.to_crs(rast.crs)"
   ]
  },
  {
   "cell_type": "code",
   "execution_count": null,
   "id": "d3d086fa-3b83-44aa-9c4c-5b7ffb66245f",
   "metadata": {},
   "outputs": [],
   "source": [
    "county.plot()"
   ]
  },
  {
   "cell_type": "code",
   "execution_count": null,
   "id": "f8d07cd6-0520-4ed7-a457-0ac9d2c0f271",
   "metadata": {},
   "outputs": [],
   "source": [
    "rast.crs"
   ]
  },
  {
   "cell_type": "code",
   "execution_count": null,
   "id": "30068dfc-2f44-41ce-b8ea-b73a784c7a94",
   "metadata": {},
   "outputs": [],
   "source": [
    "coords = gdf.geometry\n",
    "src = rast\n",
    "df = county\n",
    "import matplotlib.pyplot as plt\n",
    "from rasterio.plot import show"
   ]
  },
  {
   "cell_type": "code",
   "execution_count": null,
   "id": "adeb2766-ac74-4449-8e36-1c909e25ed47",
   "metadata": {
    "scrolled": true
   },
   "outputs": [],
   "source": [
    "clipped_array, clipped_transform = mask(dataset=src, shapes=coords, crop=True)\n",
    "\n",
    "df = df.to_crs(src.crs)\n",
    "out_meta = src.meta.copy()\n",
    "out_meta.update({\"driver\": \"GTiff\",\n",
    "                 \"height\": clipped_array.shape[1],\n",
    "                 \"width\": clipped_array.shape[2],\n",
    "                 \"transform\": clipped_transform})\n",
    "out_tif= \"clipped_example.tif\"\n",
    "with rasterio.open(out_tif, \"w\", **out_meta) as dest:\n",
    "    dest.write(clipped_array)\n",
    "    \n",
    "clipped = rasterio.open(out_tif)\n",
    "fig, ax = plt.subplots(figsize=(8, 6))\n",
    "p1 = df.plot(color=None,facecolor='none',edgecolor='red',linewidth = 2,ax=ax)\n",
    "show(clipped, ax=ax)\n",
    "ax.axis('off');"
   ]
  },
  {
   "cell_type": "code",
   "execution_count": null,
   "id": "59a68a2a-1fd2-4e80-b7fe-a16dce8552c7",
   "metadata": {},
   "outputs": [],
   "source": [
    "clipped"
   ]
  },
  {
   "cell_type": "code",
   "execution_count": null,
   "id": "f03d6494-9021-46d5-bf2e-c16cb123ea8e",
   "metadata": {},
   "outputs": [],
   "source": [
    "import rioxarray"
   ]
  },
  {
   "cell_type": "code",
   "execution_count": null,
   "id": "78f74135-8ee3-48e3-b1ff-8ac6e1c461d0",
   "metadata": {},
   "outputs": [],
   "source": [
    "d = rioxarray.open_rasterio(\"clipped_example.tif\")"
   ]
  },
  {
   "cell_type": "code",
   "execution_count": null,
   "id": "7cd41a55-7287-4573-8b94-d5508f394669",
   "metadata": {},
   "outputs": [],
   "source": [
    "d"
   ]
  },
  {
   "cell_type": "code",
   "execution_count": null,
   "id": "0d9225e0-3b66-459b-8dbf-46b8ab1e7a93",
   "metadata": {},
   "outputs": [],
   "source": [
    "d.plot()"
   ]
  },
  {
   "cell_type": "code",
   "execution_count": null,
   "id": "f8a7e38e-91c3-40e7-99f9-60ef0135796f",
   "metadata": {},
   "outputs": [],
   "source": [
    "d.values.max()"
   ]
  },
  {
   "cell_type": "code",
   "execution_count": null,
   "id": "9b073616-f73c-4cfb-8410-db8c917e0ec8",
   "metadata": {},
   "outputs": [],
   "source": [
    "d.plot()"
   ]
  },
  {
   "cell_type": "code",
   "execution_count": null,
   "id": "2b6e99f2-5546-4799-9466-1f033c177366",
   "metadata": {},
   "outputs": [],
   "source": [
    "type(d)"
   ]
  },
  {
   "cell_type": "code",
   "execution_count": null,
   "id": "d0aa2ea7-ebb3-4949-860a-b083de9009c1",
   "metadata": {},
   "outputs": [],
   "source": [
    "d.dims"
   ]
  },
  {
   "cell_type": "code",
   "execution_count": null,
   "id": "4d08df4d-7e63-47e3-bc51-d8881b9a3de4",
   "metadata": {},
   "outputs": [],
   "source": [
    "d.values.mean()"
   ]
  },
  {
   "cell_type": "code",
   "execution_count": null,
   "id": "fc068534-696e-4978-8451-49dc30199050",
   "metadata": {},
   "outputs": [],
   "source": [
    "import numpy\n"
   ]
  },
  {
   "cell_type": "code",
   "execution_count": null,
   "id": "bc561437-5c3a-4a53-8182-aa4bac57163a",
   "metadata": {},
   "outputs": [],
   "source": [
    "numpy.median(d.values)"
   ]
  },
  {
   "cell_type": "code",
   "execution_count": null,
   "id": "76f79698-b2aa-4c9d-b244-ce58c94b3b75",
   "metadata": {},
   "outputs": [],
   "source": [
    "d.values.shape"
   ]
  },
  {
   "cell_type": "code",
   "execution_count": null,
   "id": "b9c3ca0e-f5a1-441a-a281-0ffbac668359",
   "metadata": {},
   "outputs": [],
   "source": [
    "d.plot()"
   ]
  },
  {
   "cell_type": "code",
   "execution_count": null,
   "id": "f1469a38-0466-4021-8bcd-49be7f29b587",
   "metadata": {},
   "outputs": [],
   "source": [
    "d.plot.hist()"
   ]
  },
  {
   "cell_type": "code",
   "execution_count": null,
   "id": "b6e2e2c8-134d-4cc2-9a98-f5600bdcae51",
   "metadata": {},
   "outputs": [],
   "source": [
    "type(d)"
   ]
  },
  {
   "cell_type": "code",
   "execution_count": null,
   "id": "ac2ded9e-73b1-4881-8607-a1e05c6f703e",
   "metadata": {},
   "outputs": [],
   "source": [
    "import rasterstats"
   ]
  },
  {
   "cell_type": "code",
   "execution_count": null,
   "id": "ff6b30ca-a329-4525-a872-2e99cb9913e2",
   "metadata": {},
   "outputs": [],
   "source": [
    "gdf.head()"
   ]
  },
  {
   "cell_type": "code",
   "execution_count": null,
   "id": "320d8048-9fe4-4bd4-9bfb-48d051473fea",
   "metadata": {},
   "outputs": [],
   "source": [
    "tracts = gdf.dissolve(by='TRACTCE20')"
   ]
  },
  {
   "cell_type": "code",
   "execution_count": null,
   "id": "c0077891-d7e6-45bd-9e97-aea73ee37060",
   "metadata": {},
   "outputs": [],
   "source": [
    "tracts.shape"
   ]
  },
  {
   "cell_type": "code",
   "execution_count": null,
   "id": "35e8c567-03df-44ef-8b17-0665cb940f32",
   "metadata": {},
   "outputs": [],
   "source": [
    "tracts.plot()"
   ]
  },
  {
   "cell_type": "code",
   "execution_count": null,
   "id": "b5d93e04-71f4-4924-b52a-c3a6bc6f09d5",
   "metadata": {},
   "outputs": [],
   "source": [
    "from rasterstats import zonal_stats\n",
    "tstats = zonal_stats(tracts, \"clipped_example.tif\",\n",
    "            stats=\"count min mean max median\")\n",
    "\n",
    "#elevations2 = zonal_stats(\n",
    "#    sd_tracts.to_crs(dem.rio.crs),  # Geotable with zones\n",
    "#    \"../data/nasadem/nasadem_sd.tif\",  # Path to surface file\n",
    "#)\n",
    "#elevations2 = pandas.DataFrame(elevations2)"
   ]
  },
  {
   "cell_type": "code",
   "execution_count": null,
   "id": "c05c97d4-668c-4838-b142-be9bbd7064b8",
   "metadata": {},
   "outputs": [],
   "source": [
    "tstats[:5]"
   ]
  },
  {
   "cell_type": "code",
   "execution_count": null,
   "id": "9021e6ae-44cf-44fe-b9d4-f62376fe2fa7",
   "metadata": {},
   "outputs": [],
   "source": [
    "tstats = pd.DataFrame(tstats)"
   ]
  },
  {
   "cell_type": "code",
   "execution_count": null,
   "id": "bb1ada38-f843-45cf-adb6-462cfa857c6c",
   "metadata": {},
   "outputs": [],
   "source": [
    "tstats.head()"
   ]
  },
  {
   "cell_type": "code",
   "execution_count": null,
   "id": "298f365d-e407-4557-86fc-81e20d7477dc",
   "metadata": {},
   "outputs": [],
   "source": [
    "tstats.shape"
   ]
  },
  {
   "cell_type": "code",
   "execution_count": null,
   "id": "475196c7-e9b3-4805-9c1e-8dac606b5b1c",
   "metadata": {},
   "outputs": [],
   "source": [
    "tracts.shape"
   ]
  },
  {
   "cell_type": "code",
   "execution_count": null,
   "id": "d4978fcf-3308-4241-8714-ebebc757a3ae",
   "metadata": {},
   "outputs": [],
   "source": [
    "tracts['mean'] = tstats['mean'].values\n",
    "tracts.plot(column='mean', legend=True);"
   ]
  },
  {
   "cell_type": "code",
   "execution_count": null,
   "id": "f3d4393a-6da1-45f9-9a93-553b21902f54",
   "metadata": {},
   "outputs": [],
   "source": [
    "tracts['median'] = tstats['median'].values\n",
    "tracts.plot(column='median', legend=True);"
   ]
  },
  {
   "cell_type": "code",
   "execution_count": null,
   "id": "c9b34403-9a7f-4cb1-94a7-1e103d0b1dc2",
   "metadata": {},
   "outputs": [],
   "source": [
    "tracts['range'] = tstats['max'].values - tstats['min'].values\n",
    "tracts.plot(column='range', legend=True);"
   ]
  },
  {
   "cell_type": "code",
   "execution_count": null,
   "id": "cac16f68-0741-4b08-8a16-c7546520b0b6",
   "metadata": {},
   "outputs": [],
   "source": []
  },
  {
   "cell_type": "code",
   "execution_count": null,
   "id": "f4b8d213-3ced-473e-bdba-08d6b5da2f6f",
   "metadata": {},
   "outputs": [],
   "source": []
  },
  {
   "cell_type": "code",
   "execution_count": null,
   "id": "013dc192-155f-4305-ac21-05688824e230",
   "metadata": {},
   "outputs": [],
   "source": []
  }
 ],
 "metadata": {
  "kernelspec": {
   "display_name": "Python 3 (ipykernel)",
   "language": "python",
   "name": "python3"
  },
  "language_info": {
   "codemirror_mode": {
    "name": "ipython",
    "version": 3
   },
   "file_extension": ".py",
   "mimetype": "text/x-python",
   "name": "python",
   "nbconvert_exporter": "python",
   "pygments_lexer": "ipython3",
   "version": "3.10.12"
  }
 },
 "nbformat": 4,
 "nbformat_minor": 5
}
