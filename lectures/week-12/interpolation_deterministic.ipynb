{
 "cells": [
  {
   "cell_type": "markdown",
   "id": "6af6de38-4938-491e-a782-bf08b2c40c80",
   "metadata": {},
   "source": [
    "# Spatial Interpolation"
   ]
  },
  {
   "cell_type": "code",
   "execution_count": null,
   "id": "915ba032-f1c3-45a6-a339-0f3a2d2c4534",
   "metadata": {},
   "outputs": [],
   "source": [
    "import matplotlib.pyplot as plt\n",
    "plt.rcParams[\"figure.figsize\"] = (16, 9)\n"
   ]
  },
  {
   "cell_type": "code",
   "execution_count": null,
   "id": "aa389b08-efc8-432c-a35a-f8aa3cebf9e2",
   "metadata": {},
   "outputs": [],
   "source": [
    "import rasterio"
   ]
  },
  {
   "cell_type": "code",
   "execution_count": null,
   "id": "605dac0c-1b2e-4acd-9925-4a21a24de332",
   "metadata": {},
   "outputs": [],
   "source": [
    "from rasterio.mask import mask\n",
    "import geopandas as gpd\n",
    "import fiona\n",
    "import pandas as pd"
   ]
  },
  {
   "cell_type": "code",
   "execution_count": null,
   "id": "ea4d1ebc-f6c8-49aa-8858-94b91396f4d8",
   "metadata": {},
   "outputs": [],
   "source": [
    "precip = gpd.read_file(\"precip_sd.geojson\")\n"
   ]
  },
  {
   "cell_type": "code",
   "execution_count": null,
   "id": "2d6ddb1e-24dc-4a2d-aa2c-2732a0b5dbdd",
   "metadata": {},
   "outputs": [],
   "source": [
    "precip.plot(column='inches', legend=True);"
   ]
  },
  {
   "cell_type": "code",
   "execution_count": null,
   "id": "0852e6d5-beb3-4fe0-9cbf-6158241e12e8",
   "metadata": {},
   "outputs": [],
   "source": [
    "county = gpd.read_file(\"sdcounty.geojson\")"
   ]
  },
  {
   "cell_type": "code",
   "execution_count": null,
   "id": "281ca700-1735-44ec-b036-ed2252bb2ba2",
   "metadata": {},
   "outputs": [],
   "source": [
    "m = county.explore()\n",
    "precip.explore(column='inches', m=m)\n"
   ]
  },
  {
   "cell_type": "markdown",
   "id": "10e2c1a4-bdd3-4e4e-b5a5-a2a8d8cf83fa",
   "metadata": {},
   "source": [
    "## Interpolation Methods"
   ]
  },
  {
   "cell_type": "markdown",
   "id": "b784fc0c-4efe-4480-a9f7-6dfa62bc9226",
   "metadata": {},
   "source": [
    "### Voronoi Partition Interpolation"
   ]
  },
  {
   "cell_type": "code",
   "execution_count": null,
   "id": "9d2fc5ed-5363-46b1-bf3e-124ef6a1f7a1",
   "metadata": {},
   "outputs": [],
   "source": [
    "from libpysal.cg import voronoi_frames\n",
    "points = [(10.2, 5.1), (4.7, 2.2), (5.3, 5.7), (2.7, 5.3)]\n",
    "regions_df, points_df = voronoi_frames(points)\n",
    "regions_df.shape\n",
    "(4, 1)"
   ]
  },
  {
   "cell_type": "code",
   "execution_count": null,
   "id": "4d01d5c4-5761-420f-a525-06f83e2b7bc4",
   "metadata": {},
   "outputs": [],
   "source": [
    "regions_df.plot()"
   ]
  },
  {
   "cell_type": "code",
   "execution_count": null,
   "id": "9187024e-e977-4db5-82e9-4717f08b0476",
   "metadata": {},
   "outputs": [],
   "source": [
    "#libpysal.cg.voronoi_frames(points, radius=None, clip='extent')\n",
    "points = precip.get_coordinates().values"
   ]
  },
  {
   "cell_type": "code",
   "execution_count": null,
   "id": "cd7a6544-8dfb-45c2-9a48-d1a5495ad173",
   "metadata": {},
   "outputs": [],
   "source": [
    "points"
   ]
  },
  {
   "cell_type": "code",
   "execution_count": null,
   "id": "9b1d64e7-29bf-4248-bbf4-028c75c423ee",
   "metadata": {},
   "outputs": [],
   "source": [
    "v_gdf, v_p = voronoi_frames(points)\n",
    "\n",
    "v_gdf.plot()"
   ]
  },
  {
   "cell_type": "code",
   "execution_count": null,
   "id": "e5a1bcbc-b186-4e8c-bf86-982ed433395d",
   "metadata": {},
   "outputs": [],
   "source": [
    "v_gdf, v_p = voronoi_frames(points, clip=county.geometry[0])\n",
    "\n",
    "v_gdf.plot()"
   ]
  },
  {
   "cell_type": "code",
   "execution_count": null,
   "id": "c8a97651-0a88-434a-89ee-071b476af89d",
   "metadata": {},
   "outputs": [],
   "source": [
    "v_gdf['inches'] = precip.inches"
   ]
  },
  {
   "cell_type": "code",
   "execution_count": null,
   "id": "4d5767c8-add1-4b9f-86c8-601fb9817f7d",
   "metadata": {},
   "outputs": [],
   "source": [
    "v_gdf.plot(column='inches', legend=True)"
   ]
  },
  {
   "cell_type": "code",
   "execution_count": null,
   "id": "0e674c54-7d14-421f-a4b4-7b99564ee4f2",
   "metadata": {},
   "outputs": [],
   "source": [
    "base = v_gdf.plot(column='inches', legend=True,\n",
    "                 edgecolor='gray')\n",
    "precip.plot(ax=base, color='w');"
   ]
  },
  {
   "cell_type": "markdown",
   "id": "5baa4f66-2927-4611-8adf-a78e03cc0ce8",
   "metadata": {},
   "source": [
    "### Interpolate to Grids\n",
    "\n",
    "- hex3 the county\n",
    "- nearest neighbor interpolators\n",
    "- "
   ]
  },
  {
   "cell_type": "code",
   "execution_count": null,
   "id": "1e52b163-9fbb-4050-80c2-a713817f0be7",
   "metadata": {},
   "outputs": [],
   "source": [
    "import tobler"
   ]
  },
  {
   "cell_type": "code",
   "execution_count": null,
   "id": "c0c3e17a-4fee-4e94-8195-3f74675c3225",
   "metadata": {},
   "outputs": [],
   "source": [
    "county_utm = county.to_crs(county.estimate_utm_crs())\n",
    "precip_utm = precip.to_crs(precip.estimate_utm_crs())"
   ]
  },
  {
   "cell_type": "code",
   "execution_count": null,
   "id": "03746554-d397-4f40-996c-c1cdfbbd4c34",
   "metadata": {},
   "outputs": [],
   "source": [
    "from tobler.util import h3fy\n"
   ]
  },
  {
   "cell_type": "code",
   "execution_count": null,
   "id": "2d3e7982-9d34-4566-8f50-1b1e58e6be91",
   "metadata": {},
   "outputs": [],
   "source": [
    "county_h3 = h3fy(county_utm)"
   ]
  },
  {
   "cell_type": "code",
   "execution_count": null,
   "id": "a88a11b2-230f-45e2-9b82-b9ec3bac6328",
   "metadata": {},
   "outputs": [],
   "source": [
    "county_h3.plot()"
   ]
  },
  {
   "cell_type": "code",
   "execution_count": null,
   "id": "ab4628b9-99cf-48ec-8086-d823518e02cd",
   "metadata": {},
   "outputs": [],
   "source": [
    "m = county_h3.plot(color='grey')\n",
    "precip_utm.plot(column='inches', ax=m, legend=True);"
   ]
  },
  {
   "cell_type": "markdown",
   "id": "1a8c64d7-be64-45cf-8053-127a5083933a",
   "metadata": {},
   "source": [
    "### Nearest neighbor"
   ]
  },
  {
   "cell_type": "code",
   "execution_count": null,
   "id": "8e35f893-6206-4498-b81a-2f8d81dca16b",
   "metadata": {},
   "outputs": [],
   "source": [
    "hcents = county_h3.centroid\n"
   ]
  },
  {
   "cell_type": "code",
   "execution_count": null,
   "id": "4f980f23-c741-4a8f-824f-4504f1e61462",
   "metadata": {},
   "outputs": [],
   "source": [
    "m = hcents.plot(color='r')\n",
    "precip_utm.plot(column='inches', ax=m, legend=True);"
   ]
  },
  {
   "cell_type": "code",
   "execution_count": null,
   "id": "02ec51f1-c754-4a64-aef1-92332517cdab",
   "metadata": {},
   "outputs": [],
   "source": [
    "gpd.sjoin_nearest(county_h3, precip_utm, distance_col=\"distances\",\n",
    "    lsuffix=\"left\", rsuffix=\"right\", exclusive=True)"
   ]
  },
  {
   "cell_type": "code",
   "execution_count": null,
   "id": "c6203162-17e5-4433-bc91-b3d8f5d97dfb",
   "metadata": {},
   "outputs": [],
   "source": [
    "county_h3.shape"
   ]
  },
  {
   "cell_type": "code",
   "execution_count": null,
   "id": "bf8eab3d-019e-4597-9170-054ef2713438",
   "metadata": {},
   "outputs": [],
   "source": [
    "county_h3['nn1_est'] = gpd.sjoin_nearest(county_h3, precip_utm, distance_col=\"distances\",\n",
    "    lsuffix=\"left\", rsuffix=\"right\", exclusive=True).inches"
   ]
  },
  {
   "cell_type": "code",
   "execution_count": null,
   "id": "0453f07f-8628-403c-b0f4-638e86e307fa",
   "metadata": {},
   "outputs": [],
   "source": [
    "county_h3.plot(column='nn1_est', legend=True);"
   ]
  },
  {
   "cell_type": "markdown",
   "id": "030007a6-d1fb-4aea-a1a4-9e33c36ec521",
   "metadata": {},
   "source": [
    "### Knn5"
   ]
  },
  {
   "cell_type": "code",
   "execution_count": null,
   "id": "ea0178fb-37df-41ad-be70-069e0050d92c",
   "metadata": {},
   "outputs": [],
   "source": [
    "X = [[0], [1], [2], [3]]\n",
    "y = [0, 0, 1, 1]\n",
    "from sklearn.neighbors import KNeighborsRegressor\n",
    "neigh = KNeighborsRegressor(n_neighbors=2)\n",
    "neigh.fit(X, y)\n",
    "print(neigh.predict([[1.5]]))\n",
    "\n"
   ]
  },
  {
   "cell_type": "code",
   "execution_count": null,
   "id": "f1a16074-a712-423b-ad61-6c7d8c148f77",
   "metadata": {},
   "outputs": [],
   "source": [
    "# Set number of neighbors to use\n",
    "neighbors = 5\n",
    "\n",
    "# Initialize KNN regressor\n",
    "knn_regressor = KNeighborsRegressor(n_neighbors = neighbors, weights = \"uniform\") # no distance decay distance\n",
    "\n",
    "# Fit to observed locations\n",
    "knn_regressor.fit(precip_utm.get_coordinates(), precip_utm.inches)"
   ]
  },
  {
   "cell_type": "code",
   "execution_count": null,
   "id": "18fdd391-d371-48c5-82dc-b4f0b59e2ea4",
   "metadata": {},
   "outputs": [],
   "source": [
    "knn_regressor.predict(hcents.get_coordinates())\n"
   ]
  },
  {
   "cell_type": "code",
   "execution_count": null,
   "id": "9899cb88-a6fe-45fd-a009-c0b89a98f7e2",
   "metadata": {},
   "outputs": [],
   "source": [
    "county_h3['nn5_est'] = knn_regressor.predict(hcents.get_coordinates())\n"
   ]
  },
  {
   "cell_type": "code",
   "execution_count": null,
   "id": "8602b20a-03e2-4c6f-87ba-512222eaedc3",
   "metadata": {},
   "outputs": [],
   "source": [
    "county_h3.plot(column='nn5_est', legend=True);"
   ]
  },
  {
   "cell_type": "code",
   "execution_count": null,
   "id": "4c92a11b-beec-4763-a811-9e9085522256",
   "metadata": {},
   "outputs": [],
   "source": [
    "import matplotlib.pyplot as plt\n",
    "f, (ax1, ax2) = plt.subplots(1, 2, sharey=True)\n",
    "county_h3.plot(column='nn1_est',ax=ax1)\n",
    "county_h3.plot(column='nn5_est',ax=ax2)\n",
    "ax1.set_title(\"knn=1\")\n",
    "ax2.set_title(\"knn=5\");\n",
    "\n"
   ]
  },
  {
   "cell_type": "code",
   "execution_count": null,
   "id": "ff8b88c6-50d5-4131-8634-495b95bfc8df",
   "metadata": {},
   "outputs": [],
   "source": [
    "# Set number of neighbors to use\n",
    "neighbors = 5\n",
    "\n",
    "# Initialize KNN regressor\n",
    "knn_regressor = KNeighborsRegressor(n_neighbors = neighbors, weights = \"distance\") # inverse distance weighting\n",
    "# Fit to observed locations\n",
    "knn_regressor.fit(precip_utm.get_coordinates(), precip_utm.inches)"
   ]
  },
  {
   "cell_type": "code",
   "execution_count": null,
   "id": "d0960481-6312-401a-804b-78a6caed3dcc",
   "metadata": {},
   "outputs": [],
   "source": [
    "county_h3['nn5id_est'] = knn_regressor.predict(hcents.get_coordinates())\n"
   ]
  },
  {
   "cell_type": "code",
   "execution_count": null,
   "id": "6ac51cef-f3e7-46da-bece-f5c93426cfd2",
   "metadata": {},
   "outputs": [],
   "source": [
    "f, (ax1, ax2) = plt.subplots(1, 2, sharey=True)\n",
    "county_h3.plot(column='nn5_est',ax=ax1)\n",
    "county_h3.plot(column='nn5id_est',ax=ax2)\n",
    "ax1.set_title(\"knn=5 (Unweighted)\")\n",
    "ax2.set_title(\"knn=5 (Inverse Distance Weights)\");\n"
   ]
  },
  {
   "cell_type": "markdown",
   "id": "aa67e3a2-54b8-41ae-890b-9f50aab1d30e",
   "metadata": {},
   "source": [
    "## Next"
   ]
  },
  {
   "cell_type": "code",
   "execution_count": null,
   "id": "6c64746b-17bf-4b6c-95fe-da83ab53769a",
   "metadata": {},
   "outputs": [],
   "source": []
  },
  {
   "cell_type": "code",
   "execution_count": null,
   "id": "6596f3ee-0b73-4297-af35-1eadd11bcb7d",
   "metadata": {},
   "outputs": [],
   "source": [
    "tracts = gdf.dissolve(by='TRACTCE20')\n",
    "\n",
    "tracts.shape"
   ]
  },
  {
   "cell_type": "markdown",
   "id": "7610b1b9-9840-4149-92d6-a59b9b460505",
   "metadata": {},
   "source": [
    "### Surface to Area Interpolation"
   ]
  },
  {
   "cell_type": "markdown",
   "id": "8ed62e52-0dd6-4499-9b60-2623c6696eff",
   "metadata": {},
   "source": [
    "#### Spatial Join on Centroid"
   ]
  },
  {
   "cell_type": "code",
   "execution_count": null,
   "id": "1f4b77ac-bb0a-46fb-9663-b8e53530c76d",
   "metadata": {},
   "outputs": [],
   "source": [
    "cents = tracts.centroid"
   ]
  },
  {
   "cell_type": "code",
   "execution_count": null,
   "id": "a0426000-57e0-4a03-98d3-249915029361",
   "metadata": {},
   "outputs": [],
   "source": [
    "cents.plot()"
   ]
  },
  {
   "cell_type": "code",
   "execution_count": null,
   "id": "70aca1b7-8734-4cdd-9762-c73b39cfd309",
   "metadata": {},
   "outputs": [],
   "source": [
    "type(cents)"
   ]
  },
  {
   "cell_type": "code",
   "execution_count": null,
   "id": "c31e80fd-e31e-49da-a8e7-b025f469791f",
   "metadata": {},
   "outputs": [],
   "source": [
    "coord_list = [(x, y) for x, y in zip(cents.x, cents.y)]\n",
    "tracts['centest'] = [x[0] for x in clipped.sample(coord_list)]\n",
    "tracts.head()"
   ]
  },
  {
   "cell_type": "code",
   "execution_count": null,
   "id": "c293c121-3e86-43be-9f78-e89d7ce4c91f",
   "metadata": {},
   "outputs": [],
   "source": [
    "tracts['centroid'] = tracts.centroid\n",
    "tracts.set_geometry('centroid', inplace=True)"
   ]
  },
  {
   "cell_type": "code",
   "execution_count": null,
   "id": "81732445-01be-4ba1-aa81-e76504054490",
   "metadata": {},
   "outputs": [],
   "source": [
    "tracts.plot(column='centest', legend=True);"
   ]
  },
  {
   "cell_type": "code",
   "execution_count": null,
   "id": "5d1c2f32-eac7-4329-95fc-7f4c7e9f0810",
   "metadata": {},
   "outputs": [],
   "source": [
    "tracts.set_geometry('geometry', inplace=True)\n",
    "tracts.plot(column='centest', legend=True);"
   ]
  },
  {
   "cell_type": "markdown",
   "id": "4e5961e3-d350-4cdb-bfa8-32b54b008709",
   "metadata": {},
   "source": [
    "#### Zonal Methods of Surface to Area Interpolation"
   ]
  },
  {
   "cell_type": "code",
   "execution_count": null,
   "id": "ac2ded9e-73b1-4881-8607-a1e05c6f703e",
   "metadata": {},
   "outputs": [],
   "source": [
    "import rasterstats"
   ]
  },
  {
   "cell_type": "code",
   "execution_count": null,
   "id": "ff6b30ca-a329-4525-a872-2e99cb9913e2",
   "metadata": {},
   "outputs": [],
   "source": [
    "gdf.head()"
   ]
  },
  {
   "cell_type": "code",
   "execution_count": null,
   "id": "35e8c567-03df-44ef-8b17-0665cb940f32",
   "metadata": {},
   "outputs": [],
   "source": [
    "tracts.plot()"
   ]
  },
  {
   "cell_type": "code",
   "execution_count": null,
   "id": "b5d93e04-71f4-4924-b52a-c3a6bc6f09d5",
   "metadata": {},
   "outputs": [],
   "source": [
    "from rasterstats import zonal_stats\n",
    "tstats = zonal_stats(tracts, \"clipped_example.tif\",\n",
    "            stats=\"count min mean max median\")\n",
    "\n",
    "#elevations2 = zonal_stats(\n",
    "#    sd_tracts.to_crs(dem.rio.crs),  # Geotable with zones\n",
    "#    \"../data/nasadem/nasadem_sd.tif\",  # Path to surface file\n",
    "#)\n",
    "#elevations2 = pandas.DataFrame(elevations2)"
   ]
  },
  {
   "cell_type": "code",
   "execution_count": null,
   "id": "c05c97d4-668c-4838-b142-be9bbd7064b8",
   "metadata": {},
   "outputs": [],
   "source": [
    "tstats[:5]"
   ]
  },
  {
   "cell_type": "code",
   "execution_count": null,
   "id": "9021e6ae-44cf-44fe-b9d4-f62376fe2fa7",
   "metadata": {},
   "outputs": [],
   "source": [
    "tstats = pd.DataFrame(tstats)"
   ]
  },
  {
   "cell_type": "code",
   "execution_count": null,
   "id": "bb1ada38-f843-45cf-adb6-462cfa857c6c",
   "metadata": {},
   "outputs": [],
   "source": [
    "tstats.head()"
   ]
  },
  {
   "cell_type": "code",
   "execution_count": null,
   "id": "298f365d-e407-4557-86fc-81e20d7477dc",
   "metadata": {},
   "outputs": [],
   "source": [
    "tstats.shape"
   ]
  },
  {
   "cell_type": "code",
   "execution_count": null,
   "id": "475196c7-e9b3-4805-9c1e-8dac606b5b1c",
   "metadata": {},
   "outputs": [],
   "source": [
    "tracts.shape"
   ]
  },
  {
   "cell_type": "code",
   "execution_count": null,
   "id": "d4978fcf-3308-4241-8714-ebebc757a3ae",
   "metadata": {},
   "outputs": [],
   "source": [
    "tracts['mean'] = tstats['mean'].values\n",
    "tracts.plot(column='mean', legend=True);"
   ]
  },
  {
   "cell_type": "code",
   "execution_count": null,
   "id": "f3d4393a-6da1-45f9-9a93-553b21902f54",
   "metadata": {},
   "outputs": [],
   "source": [
    "tracts['median'] = tstats['median'].values\n",
    "tracts.plot(column='median', legend=True);"
   ]
  },
  {
   "cell_type": "code",
   "execution_count": null,
   "id": "c9b34403-9a7f-4cb1-94a7-1e103d0b1dc2",
   "metadata": {},
   "outputs": [],
   "source": [
    "tracts['range'] = tstats['max'].values - tstats['min'].values\n",
    "tracts.plot(column='range', legend=True);"
   ]
  },
  {
   "cell_type": "code",
   "execution_count": null,
   "id": "cac16f68-0741-4b08-8a16-c7546520b0b6",
   "metadata": {},
   "outputs": [],
   "source": [
    "import matplotlib.pyplot as plt"
   ]
  },
  {
   "cell_type": "code",
   "execution_count": null,
   "id": "f4b8d213-3ced-473e-bdba-08d6b5da2f6f",
   "metadata": {},
   "outputs": [],
   "source": [
    "import seaborn as sns"
   ]
  },
  {
   "cell_type": "code",
   "execution_count": null,
   "id": "013dc192-155f-4305-ac21-05688824e230",
   "metadata": {},
   "outputs": [],
   "source": [
    "sns.scatterplot(data=tracts, x='centest', y='mean')\n",
    "plt.plot([10, 40], [10, 40]);"
   ]
  },
  {
   "cell_type": "code",
   "execution_count": null,
   "id": "1c87472b-d5c6-4468-a829-ce05b0d1e41e",
   "metadata": {},
   "outputs": [],
   "source": [
    "sns.scatterplot(data=tracts, x='median', y='mean')\n",
    "plt.plot([10, 40], [10, 40]);"
   ]
  },
  {
   "cell_type": "code",
   "execution_count": null,
   "id": "b0d8ff01-58bd-4138-98bb-d4f4ddcfd3c3",
   "metadata": {},
   "outputs": [],
   "source": []
  }
 ],
 "metadata": {
  "kernelspec": {
   "display_name": "Python 3 (ipykernel)",
   "language": "python",
   "name": "python3"
  },
  "language_info": {
   "codemirror_mode": {
    "name": "ipython",
    "version": 3
   },
   "file_extension": ".py",
   "mimetype": "text/x-python",
   "name": "python",
   "nbconvert_exporter": "python",
   "pygments_lexer": "ipython3",
   "version": "3.10.12"
  }
 },
 "nbformat": 4,
 "nbformat_minor": 5
}
