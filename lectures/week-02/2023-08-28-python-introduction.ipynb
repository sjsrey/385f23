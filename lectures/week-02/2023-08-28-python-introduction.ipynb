{
 "cells": [
  {
   "cell_type": "markdown",
   "id": "f6d4908a-6258-4ee5-84d3-754381c28628",
   "metadata": {},
   "source": [
    "# Introduction to Python\n",
    "\n",
    "## Why Python?\n",
    "\n",
    "- high level language\n",
    "- low learning curve\n",
    "- open source\n",
    "- widespread use\n",
    "- fun"
   ]
  },
  {
   "cell_type": "markdown",
   "id": "d5c71af3-2fd7-463c-b920-a75345d6e102",
   "metadata": {},
   "source": [
    "## Python Concepts"
   ]
  },
  {
   "cell_type": "code",
   "execution_count": 1,
   "id": "b7e5a590-4449-402a-a324-0b0ea6ba6acf",
   "metadata": {},
   "outputs": [
    {
     "data": {
      "text/plain": [
       "5"
      ]
     },
     "execution_count": 1,
     "metadata": {},
     "output_type": "execute_result"
    }
   ],
   "source": [
    "2 + 3"
   ]
  },
  {
   "cell_type": "code",
   "execution_count": 2,
   "id": "62c0f696-e938-4075-8d2a-a7627661d102",
   "metadata": {},
   "outputs": [
    {
     "data": {
      "text/plain": [
       "35"
      ]
     },
     "execution_count": 2,
     "metadata": {},
     "output_type": "execute_result"
    }
   ],
   "source": [
    "5 * 7"
   ]
  },
  {
   "cell_type": "code",
   "execution_count": 3,
   "id": "5e96e8f8-351c-485f-b890-37c2b86ad119",
   "metadata": {},
   "outputs": [
    {
     "data": {
      "text/plain": [
       "16"
      ]
     },
     "execution_count": 3,
     "metadata": {},
     "output_type": "execute_result"
    }
   ],
   "source": [
    "2**4"
   ]
  },
  {
   "cell_type": "code",
   "execution_count": 4,
   "id": "fead3e40-b857-45e7-8685-2bf3e434f917",
   "metadata": {},
   "outputs": [
    {
     "data": {
      "text/plain": [
       "1.75"
      ]
     },
     "execution_count": 4,
     "metadata": {},
     "output_type": "execute_result"
    }
   ],
   "source": [
    "7 / 4"
   ]
  },
  {
   "cell_type": "code",
   "execution_count": 5,
   "id": "02745159-05b5-4f99-b7ea-ca1cc5034b27",
   "metadata": {},
   "outputs": [],
   "source": [
    "x = 8/3"
   ]
  },
  {
   "cell_type": "code",
   "execution_count": 6,
   "id": "7314e191-2ac5-4ec0-ab52-a51184b845d3",
   "metadata": {},
   "outputs": [
    {
     "data": {
      "text/plain": [
       "2.6666666666666665"
      ]
     },
     "execution_count": 6,
     "metadata": {},
     "output_type": "execute_result"
    }
   ],
   "source": [
    "x"
   ]
  },
  {
   "cell_type": "code",
   "execution_count": 7,
   "id": "6b501205-05c0-4788-9be9-e9e9b322a620",
   "metadata": {},
   "outputs": [],
   "source": [
    "import math"
   ]
  },
  {
   "cell_type": "code",
   "execution_count": 8,
   "id": "960f707a-f65d-4589-a3ff-c4d0b30a4065",
   "metadata": {},
   "outputs": [
    {
     "data": {
      "text/plain": [
       "3.141592653589793"
      ]
     },
     "execution_count": 8,
     "metadata": {},
     "output_type": "execute_result"
    }
   ],
   "source": [
    "math.pi"
   ]
  },
  {
   "cell_type": "code",
   "execution_count": 9,
   "id": "fa150ac3-f1c0-4b0b-a1a9-c338478adc62",
   "metadata": {},
   "outputs": [
    {
     "data": {
      "text/plain": [
       "2.0"
      ]
     },
     "execution_count": 9,
     "metadata": {},
     "output_type": "execute_result"
    }
   ],
   "source": [
    "math.sqrt(4)"
   ]
  },
  {
   "cell_type": "code",
   "execution_count": 10,
   "id": "3445c0c1-4aed-4db7-8720-1b5c0d0b78e7",
   "metadata": {},
   "outputs": [],
   "source": [
    "temp_celsius = 10.0"
   ]
  },
  {
   "cell_type": "code",
   "execution_count": 11,
   "id": "050193ae-7000-4d7c-8b94-14049becc4f2",
   "metadata": {},
   "outputs": [
    {
     "data": {
      "text/plain": [
       "10.0"
      ]
     },
     "execution_count": 11,
     "metadata": {},
     "output_type": "execute_result"
    }
   ],
   "source": [
    "temp_celsius"
   ]
  },
  {
   "cell_type": "code",
   "execution_count": 12,
   "id": "b2d2009c-bf3e-46c2-8b7f-44da8c35f5c4",
   "metadata": {},
   "outputs": [
    {
     "name": "stdout",
     "output_type": "stream",
     "text": [
      "Temperature in Fahrenheit:  50.0\n"
     ]
    }
   ],
   "source": [
    "print(\"Temperature in Fahrenheit: \", 9/5 * temp_celsius + 32)"
   ]
  },
  {
   "cell_type": "code",
   "execution_count": 13,
   "id": "af0f13f2-ef8e-4cb6-8f81-d0a971ad893c",
   "metadata": {},
   "outputs": [
    {
     "name": "stdout",
     "output_type": "stream",
     "text": [
      "Temperature in Fahrenheit:  50.0\n"
     ]
    }
   ],
   "source": [
    "print(\"Temperature in Fahrenheit: \", (9/5 * temp_celsius) + 32)"
   ]
  },
  {
   "cell_type": "code",
   "execution_count": 14,
   "id": "c5f4b256-5092-4857-bc28-d20a24a9a317",
   "metadata": {},
   "outputs": [
    {
     "data": {
      "text/plain": [
       "10.0"
      ]
     },
     "execution_count": 14,
     "metadata": {},
     "output_type": "execute_result"
    }
   ],
   "source": [
    "temp_celsius"
   ]
  },
  {
   "cell_type": "code",
   "execution_count": 15,
   "id": "e569a843-af9d-4c75-86e5-3c205b84e96d",
   "metadata": {},
   "outputs": [],
   "source": [
    "temp_celsius = 40.0"
   ]
  },
  {
   "cell_type": "code",
   "execution_count": 16,
   "id": "80a158fa-1c35-45a8-ac05-d24b2dd8a312",
   "metadata": {},
   "outputs": [
    {
     "name": "stdout",
     "output_type": "stream",
     "text": [
      "Temperature in Fahrenheit:  104.0\n"
     ]
    }
   ],
   "source": [
    "print(\"Temperature in Fahrenheit: \", (9/5 * temp_celsius) + 32)"
   ]
  },
  {
   "cell_type": "code",
   "execution_count": 18,
   "id": "5b3142e4-64ff-427b-9f44-f89cc129ad9c",
   "metadata": {},
   "outputs": [
    {
     "name": "stdout",
     "output_type": "stream",
     "text": [
      "Temperature in Fahrenheit:  104.0\n"
     ]
    }
   ],
   "source": [
    "print(\"Temperature in Fahrenheit: \", (9/5 * temp_celsius) + 32)"
   ]
  },
  {
   "cell_type": "markdown",
   "id": "16b71032-0642-4872-ad80-7478da983422",
   "metadata": {},
   "source": [
    "## Data Types\n",
    "\n",
    " - int\n",
    " - float\n",
    " - str\n",
    " - bool"
   ]
  },
  {
   "cell_type": "code",
   "execution_count": 20,
   "id": "2eb87ae8-81b5-4dc1-97e5-79657380ecc5",
   "metadata": {},
   "outputs": [],
   "source": [
    "weatherForecast = \"Hot\""
   ]
  },
  {
   "cell_type": "code",
   "execution_count": 21,
   "id": "6ccde762-03f1-4656-9fc0-eb442cfb17be",
   "metadata": {},
   "outputs": [
    {
     "data": {
      "text/plain": [
       "str"
      ]
     },
     "execution_count": 21,
     "metadata": {},
     "output_type": "execute_result"
    }
   ],
   "source": [
    "type(weatherForecast)"
   ]
  },
  {
   "cell_type": "code",
   "execution_count": 22,
   "id": "ae31e21d-e659-415b-98e5-80d94380ffa3",
   "metadata": {},
   "outputs": [
    {
     "data": {
      "text/plain": [
       "float"
      ]
     },
     "execution_count": 22,
     "metadata": {},
     "output_type": "execute_result"
    }
   ],
   "source": [
    "x = 10.1\n",
    "type(x)"
   ]
  },
  {
   "cell_type": "code",
   "execution_count": 23,
   "id": "e228ca08-02d2-4e22-b60d-fe186abd15db",
   "metadata": {},
   "outputs": [
    {
     "data": {
      "text/plain": [
       "int"
      ]
     },
     "execution_count": 23,
     "metadata": {},
     "output_type": "execute_result"
    }
   ],
   "source": [
    "y = 7\n",
    "type(y)"
   ]
  },
  {
   "cell_type": "code",
   "execution_count": 24,
   "id": "91efef81-f9d2-4830-9385-61bec5dd8b89",
   "metadata": {},
   "outputs": [
    {
     "data": {
      "text/plain": [
       "['__add__',\n",
       " '__class__',\n",
       " '__contains__',\n",
       " '__delattr__',\n",
       " '__dir__',\n",
       " '__doc__',\n",
       " '__eq__',\n",
       " '__format__',\n",
       " '__ge__',\n",
       " '__getattribute__',\n",
       " '__getitem__',\n",
       " '__getnewargs__',\n",
       " '__gt__',\n",
       " '__hash__',\n",
       " '__init__',\n",
       " '__init_subclass__',\n",
       " '__iter__',\n",
       " '__le__',\n",
       " '__len__',\n",
       " '__lt__',\n",
       " '__mod__',\n",
       " '__mul__',\n",
       " '__ne__',\n",
       " '__new__',\n",
       " '__reduce__',\n",
       " '__reduce_ex__',\n",
       " '__repr__',\n",
       " '__rmod__',\n",
       " '__rmul__',\n",
       " '__setattr__',\n",
       " '__sizeof__',\n",
       " '__str__',\n",
       " '__subclasshook__',\n",
       " 'capitalize',\n",
       " 'casefold',\n",
       " 'center',\n",
       " 'count',\n",
       " 'encode',\n",
       " 'endswith',\n",
       " 'expandtabs',\n",
       " 'find',\n",
       " 'format',\n",
       " 'format_map',\n",
       " 'index',\n",
       " 'isalnum',\n",
       " 'isalpha',\n",
       " 'isascii',\n",
       " 'isdecimal',\n",
       " 'isdigit',\n",
       " 'isidentifier',\n",
       " 'islower',\n",
       " 'isnumeric',\n",
       " 'isprintable',\n",
       " 'isspace',\n",
       " 'istitle',\n",
       " 'isupper',\n",
       " 'join',\n",
       " 'ljust',\n",
       " 'lower',\n",
       " 'lstrip',\n",
       " 'maketrans',\n",
       " 'partition',\n",
       " 'removeprefix',\n",
       " 'removesuffix',\n",
       " 'replace',\n",
       " 'rfind',\n",
       " 'rindex',\n",
       " 'rjust',\n",
       " 'rpartition',\n",
       " 'rsplit',\n",
       " 'rstrip',\n",
       " 'split',\n",
       " 'splitlines',\n",
       " 'startswith',\n",
       " 'strip',\n",
       " 'swapcase',\n",
       " 'title',\n",
       " 'translate',\n",
       " 'upper',\n",
       " 'zfill']"
      ]
     },
     "execution_count": 24,
     "metadata": {},
     "output_type": "execute_result"
    }
   ],
   "source": [
    "dir(weatherForecast)"
   ]
  },
  {
   "cell_type": "code",
   "execution_count": 25,
   "id": "33ff1923-73d3-4747-8c2a-66516bfd96a0",
   "metadata": {},
   "outputs": [
    {
     "data": {
      "text/plain": [
       "'HOT'"
      ]
     },
     "execution_count": 25,
     "metadata": {},
     "output_type": "execute_result"
    }
   ],
   "source": [
    "weatherForecast.upper()"
   ]
  },
  {
   "cell_type": "code",
   "execution_count": 26,
   "id": "8813ecbd-5401-4f7e-b310-29b391347809",
   "metadata": {},
   "outputs": [
    {
     "data": {
      "text/plain": [
       "False"
      ]
     },
     "execution_count": 26,
     "metadata": {},
     "output_type": "execute_result"
    }
   ],
   "source": [
    "weatherForecast.startswith('f')"
   ]
  },
  {
   "cell_type": "code",
   "execution_count": 27,
   "id": "5d532b17-de9b-47fd-bb21-c42dcbae83a8",
   "metadata": {},
   "outputs": [],
   "source": [
    "title = \"This is the title of my book\""
   ]
  },
  {
   "cell_type": "code",
   "execution_count": 28,
   "id": "d760edcf-3e05-4940-84e6-9d6a15b16237",
   "metadata": {},
   "outputs": [
    {
     "data": {
      "text/plain": [
       "'This is the title of my book'"
      ]
     },
     "execution_count": 28,
     "metadata": {},
     "output_type": "execute_result"
    }
   ],
   "source": [
    "title"
   ]
  },
  {
   "cell_type": "code",
   "execution_count": 29,
   "id": "ced9ea72-734f-4f70-90ab-57e731b3a483",
   "metadata": {},
   "outputs": [
    {
     "data": {
      "text/plain": [
       "'THIS IS THE TITLE OF MY BOOK'"
      ]
     },
     "execution_count": 29,
     "metadata": {},
     "output_type": "execute_result"
    }
   ],
   "source": [
    "title.upper()"
   ]
  },
  {
   "cell_type": "code",
   "execution_count": 30,
   "id": "bfc291d7-4907-4f63-a2b1-2f014bcb413a",
   "metadata": {},
   "outputs": [
    {
     "data": {
      "text/plain": [
       "'This Is The Title Of My Book'"
      ]
     },
     "execution_count": 30,
     "metadata": {},
     "output_type": "execute_result"
    }
   ],
   "source": [
    "title.title()"
   ]
  },
  {
   "cell_type": "code",
   "execution_count": 31,
   "id": "3c530a64-f2bf-4082-888d-8217159979e8",
   "metadata": {},
   "outputs": [
    {
     "data": {
      "text/plain": [
       "['This', 'is', 'the', 'title', 'of', 'my', 'book']"
      ]
     },
     "execution_count": 31,
     "metadata": {},
     "output_type": "execute_result"
    }
   ],
   "source": [
    "title.split()"
   ]
  },
  {
   "cell_type": "code",
   "execution_count": 32,
   "id": "6ddcb389-34bd-412b-990f-cf7e0f801109",
   "metadata": {},
   "outputs": [
    {
     "data": {
      "text/plain": [
       "['__add__',\n",
       " '__class__',\n",
       " '__contains__',\n",
       " '__delattr__',\n",
       " '__dir__',\n",
       " '__doc__',\n",
       " '__eq__',\n",
       " '__format__',\n",
       " '__ge__',\n",
       " '__getattribute__',\n",
       " '__getitem__',\n",
       " '__getnewargs__',\n",
       " '__gt__',\n",
       " '__hash__',\n",
       " '__init__',\n",
       " '__init_subclass__',\n",
       " '__iter__',\n",
       " '__le__',\n",
       " '__len__',\n",
       " '__lt__',\n",
       " '__mod__',\n",
       " '__mul__',\n",
       " '__ne__',\n",
       " '__new__',\n",
       " '__reduce__',\n",
       " '__reduce_ex__',\n",
       " '__repr__',\n",
       " '__rmod__',\n",
       " '__rmul__',\n",
       " '__setattr__',\n",
       " '__sizeof__',\n",
       " '__str__',\n",
       " '__subclasshook__',\n",
       " 'capitalize',\n",
       " 'casefold',\n",
       " 'center',\n",
       " 'count',\n",
       " 'encode',\n",
       " 'endswith',\n",
       " 'expandtabs',\n",
       " 'find',\n",
       " 'format',\n",
       " 'format_map',\n",
       " 'index',\n",
       " 'isalnum',\n",
       " 'isalpha',\n",
       " 'isascii',\n",
       " 'isdecimal',\n",
       " 'isdigit',\n",
       " 'isidentifier',\n",
       " 'islower',\n",
       " 'isnumeric',\n",
       " 'isprintable',\n",
       " 'isspace',\n",
       " 'istitle',\n",
       " 'isupper',\n",
       " 'join',\n",
       " 'ljust',\n",
       " 'lower',\n",
       " 'lstrip',\n",
       " 'maketrans',\n",
       " 'partition',\n",
       " 'removeprefix',\n",
       " 'removesuffix',\n",
       " 'replace',\n",
       " 'rfind',\n",
       " 'rindex',\n",
       " 'rjust',\n",
       " 'rpartition',\n",
       " 'rsplit',\n",
       " 'rstrip',\n",
       " 'split',\n",
       " 'splitlines',\n",
       " 'startswith',\n",
       " 'strip',\n",
       " 'swapcase',\n",
       " 'title',\n",
       " 'translate',\n",
       " 'upper',\n",
       " 'zfill']"
      ]
     },
     "execution_count": 32,
     "metadata": {},
     "output_type": "execute_result"
    }
   ],
   "source": [
    "dir(title)"
   ]
  },
  {
   "cell_type": "code",
   "execution_count": 33,
   "id": "7e7c0740-8e18-4064-ae5c-e7c3f2fdd17b",
   "metadata": {},
   "outputs": [
    {
     "data": {
      "text/plain": [
       "'This is the title of my book'"
      ]
     },
     "execution_count": 33,
     "metadata": {},
     "output_type": "execute_result"
    }
   ],
   "source": [
    "title"
   ]
  },
  {
   "cell_type": "code",
   "execution_count": 35,
   "id": "b2a1c400-202c-495b-af30-dd7748545114",
   "metadata": {},
   "outputs": [
    {
     "data": {
      "text/plain": [
       "'      This is the title of my book      '"
      ]
     },
     "execution_count": 35,
     "metadata": {},
     "output_type": "execute_result"
    }
   ],
   "source": [
    "title.center(40)"
   ]
  },
  {
   "cell_type": "code",
   "execution_count": 39,
   "id": "308275fd-15dc-4292-afe9-91600c3966ea",
   "metadata": {},
   "outputs": [],
   "source": [
    "words = title.split()\n"
   ]
  },
  {
   "cell_type": "code",
   "execution_count": 40,
   "id": "3db9979e-2626-49a1-9e35-bdbba519e32e",
   "metadata": {},
   "outputs": [
    {
     "data": {
      "text/plain": [
       "['This', 'is', 'the', 'title', 'of', 'my', 'book']"
      ]
     },
     "execution_count": 40,
     "metadata": {},
     "output_type": "execute_result"
    }
   ],
   "source": [
    "words"
   ]
  },
  {
   "cell_type": "code",
   "execution_count": 41,
   "id": "df897519-b930-48c4-b66c-3635cddb8892",
   "metadata": {},
   "outputs": [
    {
     "data": {
      "text/plain": [
       "list"
      ]
     },
     "execution_count": 41,
     "metadata": {},
     "output_type": "execute_result"
    }
   ],
   "source": [
    "type(words)"
   ]
  },
  {
   "cell_type": "code",
   "execution_count": 43,
   "id": "dd953653-07bf-4e50-88d2-78660815ddc1",
   "metadata": {},
   "outputs": [
    {
     "data": {
      "text/plain": [
       "['__add__',\n",
       " '__class__',\n",
       " '__class_getitem__',\n",
       " '__contains__',\n",
       " '__delattr__',\n",
       " '__delitem__',\n",
       " '__dir__',\n",
       " '__doc__',\n",
       " '__eq__',\n",
       " '__format__',\n",
       " '__ge__',\n",
       " '__getattribute__',\n",
       " '__getitem__',\n",
       " '__gt__',\n",
       " '__hash__',\n",
       " '__iadd__',\n",
       " '__imul__',\n",
       " '__init__',\n",
       " '__init_subclass__',\n",
       " '__iter__',\n",
       " '__le__',\n",
       " '__len__',\n",
       " '__lt__',\n",
       " '__mul__',\n",
       " '__ne__',\n",
       " '__new__',\n",
       " '__reduce__',\n",
       " '__reduce_ex__',\n",
       " '__repr__',\n",
       " '__reversed__',\n",
       " '__rmul__',\n",
       " '__setattr__',\n",
       " '__setitem__',\n",
       " '__sizeof__',\n",
       " '__str__',\n",
       " '__subclasshook__',\n",
       " 'append',\n",
       " 'clear',\n",
       " 'copy',\n",
       " 'count',\n",
       " 'extend',\n",
       " 'index',\n",
       " 'insert',\n",
       " 'pop',\n",
       " 'remove',\n",
       " 'reverse',\n",
       " 'sort']"
      ]
     },
     "execution_count": 43,
     "metadata": {},
     "output_type": "execute_result"
    }
   ],
   "source": [
    "dir(words)"
   ]
  },
  {
   "cell_type": "code",
   "execution_count": 44,
   "id": "58594b9a-7f1f-47ae-8dfb-d137f754879c",
   "metadata": {},
   "outputs": [
    {
     "data": {
      "text/plain": [
       "['This', 'is', 'the', 'title', 'of', 'my', 'book']"
      ]
     },
     "execution_count": 44,
     "metadata": {},
     "output_type": "execute_result"
    }
   ],
   "source": [
    "words"
   ]
  },
  {
   "cell_type": "code",
   "execution_count": 45,
   "id": "d13a9543-882c-4f06-bdd0-a0711e5169b4",
   "metadata": {},
   "outputs": [
    {
     "data": {
      "text/plain": [
       "7"
      ]
     },
     "execution_count": 45,
     "metadata": {},
     "output_type": "execute_result"
    }
   ],
   "source": [
    "len(words)"
   ]
  },
  {
   "cell_type": "code",
   "execution_count": 46,
   "id": "93585481-4315-479b-b56a-1b3a0a364166",
   "metadata": {},
   "outputs": [
    {
     "data": {
      "text/plain": [
       "28"
      ]
     },
     "execution_count": 46,
     "metadata": {},
     "output_type": "execute_result"
    }
   ],
   "source": [
    "len(title)"
   ]
  },
  {
   "cell_type": "code",
   "execution_count": 47,
   "id": "8fe88e53-6aac-4787-b771-3437e1682fa5",
   "metadata": {},
   "outputs": [
    {
     "data": {
      "text/plain": [
       "'This'"
      ]
     },
     "execution_count": 47,
     "metadata": {},
     "output_type": "execute_result"
    }
   ],
   "source": [
    "words[0]"
   ]
  },
  {
   "cell_type": "code",
   "execution_count": 48,
   "id": "3ec75099-f3a5-4d20-8e9b-969e1aa43065",
   "metadata": {},
   "outputs": [
    {
     "data": {
      "text/plain": [
       "'is'"
      ]
     },
     "execution_count": 48,
     "metadata": {},
     "output_type": "execute_result"
    }
   ],
   "source": [
    "words[1]"
   ]
  },
  {
   "cell_type": "code",
   "execution_count": 49,
   "id": "e2fedaae-c75b-44ac-8553-f28490705b8e",
   "metadata": {},
   "outputs": [
    {
     "ename": "IndexError",
     "evalue": "list index out of range",
     "output_type": "error",
     "traceback": [
      "\u001b[0;31m---------------------------------------------------------------------------\u001b[0m",
      "\u001b[0;31mIndexError\u001b[0m                                Traceback (most recent call last)",
      "Cell \u001b[0;32mIn[49], line 1\u001b[0m\n\u001b[0;32m----> 1\u001b[0m \u001b[43mwords\u001b[49m\u001b[43m[\u001b[49m\u001b[38;5;241;43m7\u001b[39;49m\u001b[43m]\u001b[49m\n",
      "\u001b[0;31mIndexError\u001b[0m: list index out of range"
     ]
    }
   ],
   "source": [
    "words[7]"
   ]
  },
  {
   "cell_type": "code",
   "execution_count": 50,
   "id": "b57837e2-aa78-40d6-aca3-fd4134abafbc",
   "metadata": {},
   "outputs": [
    {
     "data": {
      "text/plain": [
       "'book'"
      ]
     },
     "execution_count": 50,
     "metadata": {},
     "output_type": "execute_result"
    }
   ],
   "source": [
    "words[6]"
   ]
  },
  {
   "cell_type": "code",
   "execution_count": 51,
   "id": "93e8e5ce-d7d0-4fa3-997c-8aa2b95f063f",
   "metadata": {},
   "outputs": [
    {
     "data": {
      "text/plain": [
       "'This is the title of my book'"
      ]
     },
     "execution_count": 51,
     "metadata": {},
     "output_type": "execute_result"
    }
   ],
   "source": [
    "title"
   ]
  },
  {
   "cell_type": "code",
   "execution_count": 52,
   "id": "f7a232f0-1df6-4c25-a5bc-185f1441ff0f",
   "metadata": {},
   "outputs": [
    {
     "data": {
      "text/plain": [
       "'T'"
      ]
     },
     "execution_count": 52,
     "metadata": {},
     "output_type": "execute_result"
    }
   ],
   "source": [
    "title[0]"
   ]
  },
  {
   "cell_type": "code",
   "execution_count": 53,
   "id": "8f8e7c93-af93-41f2-ac4b-a52b11b1a453",
   "metadata": {},
   "outputs": [
    {
     "data": {
      "text/plain": [
       "28"
      ]
     },
     "execution_count": 53,
     "metadata": {},
     "output_type": "execute_result"
    }
   ],
   "source": [
    "len(title)"
   ]
  },
  {
   "cell_type": "code",
   "execution_count": 54,
   "id": "1c11bb4a-8b15-4e8f-b5bb-ec377ea41d76",
   "metadata": {},
   "outputs": [
    {
     "data": {
      "text/plain": [
       "'k'"
      ]
     },
     "execution_count": 54,
     "metadata": {},
     "output_type": "execute_result"
    }
   ],
   "source": [
    "title[-1]"
   ]
  },
  {
   "cell_type": "code",
   "execution_count": 55,
   "id": "ff2ed7c6-de49-4458-bdb4-d82a7630a5a0",
   "metadata": {},
   "outputs": [
    {
     "data": {
      "text/plain": [
       "'o'"
      ]
     },
     "execution_count": 55,
     "metadata": {},
     "output_type": "execute_result"
    }
   ],
   "source": [
    "title[-2]"
   ]
  },
  {
   "cell_type": "code",
   "execution_count": 56,
   "id": "5f32ce87-b75e-46b5-b341-b22cd86a5e2d",
   "metadata": {},
   "outputs": [
    {
     "data": {
      "text/plain": [
       "'This is the title of my '"
      ]
     },
     "execution_count": 56,
     "metadata": {},
     "output_type": "execute_result"
    }
   ],
   "source": [
    "title[0:-4]"
   ]
  },
  {
   "cell_type": "code",
   "execution_count": 57,
   "id": "cc7c64b9-8ee7-4ecf-a54a-aea9af6cb278",
   "metadata": {},
   "outputs": [
    {
     "data": {
      "text/plain": [
       "'is th'"
      ]
     },
     "execution_count": 57,
     "metadata": {},
     "output_type": "execute_result"
    }
   ],
   "source": [
    "title[5:10]"
   ]
  },
  {
   "cell_type": "code",
   "execution_count": 58,
   "id": "9719c32a-bf13-4586-acdc-932cda6bba90",
   "metadata": {},
   "outputs": [
    {
     "data": {
      "text/plain": [
       "'e'"
      ]
     },
     "execution_count": 58,
     "metadata": {},
     "output_type": "execute_result"
    }
   ],
   "source": [
    "title[10]"
   ]
  },
  {
   "cell_type": "code",
   "execution_count": 59,
   "id": "c6612456-5038-4f18-9168-615edec3fa7c",
   "metadata": {},
   "outputs": [
    {
     "data": {
      "text/plain": [
       "['This', 'is', 'the', 'title', 'of', 'my', 'book']"
      ]
     },
     "execution_count": 59,
     "metadata": {},
     "output_type": "execute_result"
    }
   ],
   "source": [
    "words"
   ]
  },
  {
   "cell_type": "code",
   "execution_count": 60,
   "id": "88942d40-286e-46ad-9448-11a50ceb3541",
   "metadata": {},
   "outputs": [
    {
     "data": {
      "text/plain": [
       "['is', 'the', 'title', 'of']"
      ]
     },
     "execution_count": 60,
     "metadata": {},
     "output_type": "execute_result"
    }
   ],
   "source": [
    "words[1:-2]"
   ]
  },
  {
   "cell_type": "code",
   "execution_count": 61,
   "id": "4eaf0eb6-9d5a-41be-beb7-6d7a2205a55e",
   "metadata": {},
   "outputs": [
    {
     "data": {
      "text/plain": [
       "list"
      ]
     },
     "execution_count": 61,
     "metadata": {},
     "output_type": "execute_result"
    }
   ],
   "source": [
    "type(words)"
   ]
  },
  {
   "cell_type": "code",
   "execution_count": 62,
   "id": "22cc305b-7628-495e-bb4d-bda2e9a6e5dc",
   "metadata": {},
   "outputs": [
    {
     "data": {
      "text/plain": [
       "str"
      ]
     },
     "execution_count": 62,
     "metadata": {},
     "output_type": "execute_result"
    }
   ],
   "source": [
    "type(words[0])"
   ]
  },
  {
   "cell_type": "code",
   "execution_count": 64,
   "id": "3279cae4-29d4-4c60-8f28-1c881031a2c2",
   "metadata": {},
   "outputs": [
    {
     "name": "stdout",
     "output_type": "stream",
     "text": [
      "This\n",
      "is\n",
      "the\n",
      "title\n",
      "of\n",
      "my\n",
      "book\n"
     ]
    }
   ],
   "source": [
    "for word in words:\n",
    "    print(word)"
   ]
  },
  {
   "cell_type": "code",
   "execution_count": 65,
   "id": "3d6a8083-24f8-481c-9d5a-7ffa86dc6223",
   "metadata": {},
   "outputs": [
    {
     "name": "stdout",
     "output_type": "stream",
     "text": [
      "0 This\n",
      "1 is\n",
      "2 the\n",
      "3 title\n",
      "4 of\n",
      "5 my\n",
      "6 book\n"
     ]
    }
   ],
   "source": [
    "for i, word in enumerate(words):\n",
    "    print(i, word)"
   ]
  },
  {
   "cell_type": "code",
   "execution_count": 66,
   "id": "56454be0-5bcd-43af-b236-9b7896fe00ad",
   "metadata": {},
   "outputs": [
    {
     "name": "stdout",
     "output_type": "stream",
     "text": [
      "0 This <class 'str'>\n",
      "1 is <class 'str'>\n",
      "2 the <class 'str'>\n",
      "3 title <class 'str'>\n",
      "4 of <class 'str'>\n",
      "5 my <class 'str'>\n",
      "6 book <class 'str'>\n"
     ]
    }
   ],
   "source": [
    "for i, word in enumerate(words):\n",
    "    print(i, word, type(word))"
   ]
  },
  {
   "cell_type": "code",
   "execution_count": 67,
   "id": "8b0b960b-9520-4680-ab0c-1524488cf52b",
   "metadata": {},
   "outputs": [
    {
     "data": {
      "text/plain": [
       "7"
      ]
     },
     "execution_count": 67,
     "metadata": {},
     "output_type": "execute_result"
    }
   ],
   "source": [
    "len(words)"
   ]
  },
  {
   "cell_type": "code",
   "execution_count": 68,
   "id": "9c25ead1-babe-4fad-8d8f-356cdfe3373b",
   "metadata": {},
   "outputs": [],
   "source": [
    "if len(words) > 7:\n",
    "    print('no its not longer than 7')"
   ]
  },
  {
   "cell_type": "code",
   "execution_count": 69,
   "id": "f21d0b3b-b836-4f27-8971-81ed92dc25e4",
   "metadata": {},
   "outputs": [
    {
     "name": "stdout",
     "output_type": "stream",
     "text": [
      "it is of length 7\n"
     ]
    }
   ],
   "source": [
    "if len(words) == 7:\n",
    "    print('it is of length 7')"
   ]
  },
  {
   "cell_type": "code",
   "execution_count": 70,
   "id": "441e52bc-971b-4668-a6a8-9cb3e3468f0a",
   "metadata": {},
   "outputs": [
    {
     "name": "stdout",
     "output_type": "stream",
     "text": [
      "It must be 7 or less in length\n"
     ]
    }
   ],
   "source": [
    "if len(words) > 7:\n",
    "    print('no its not longer than 7')\n",
    "else:\n",
    "    print('It must be 7 or less in length')"
   ]
  },
  {
   "cell_type": "code",
   "execution_count": 72,
   "id": "4d2def1f-f81a-4dd9-8deb-cb854ae317b7",
   "metadata": {},
   "outputs": [
    {
     "name": "stdout",
     "output_type": "stream",
     "text": [
      "its 7\n"
     ]
    }
   ],
   "source": [
    "if len(words) > 7:\n",
    "    print('no its not longer than 7')\n",
    "elif len(words)==7:\n",
    "    print('its 7')\n",
    "else:\n",
    "    print('It is less than 7 in length')"
   ]
  },
  {
   "cell_type": "code",
   "execution_count": null,
   "id": "1b2d4493-d848-4b01-ba0b-8243eafc803c",
   "metadata": {},
   "outputs": [],
   "source": []
  }
 ],
 "metadata": {
  "kernelspec": {
   "display_name": "Python 3 (ipykernel)",
   "language": "python",
   "name": "python3"
  },
  "language_info": {
   "codemirror_mode": {
    "name": "ipython",
    "version": 3
   },
   "file_extension": ".py",
   "mimetype": "text/x-python",
   "name": "python",
   "nbconvert_exporter": "python",
   "pygments_lexer": "ipython3",
   "version": "3.9.17"
  }
 },
 "nbformat": 4,
 "nbformat_minor": 5
}
