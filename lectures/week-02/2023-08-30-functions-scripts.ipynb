{
 "cells": [
  {
   "cell_type": "markdown",
   "id": "36931e01-7fd8-4667-ba5f-d95d51ff6ffa",
   "metadata": {},
   "source": [
    "## Functions"
   ]
  },
  {
   "cell_type": "code",
   "execution_count": 2,
   "id": "b0191150-751b-4a93-9664-768c208d3369",
   "metadata": {},
   "outputs": [],
   "source": [
    "def celsius_to_fahr(temp):\n",
    "    return 9 / 5 * temp + 32 "
   ]
  },
  {
   "cell_type": "code",
   "execution_count": 3,
   "id": "09c2367e-be9a-4911-8658-77767e1c7649",
   "metadata": {},
   "outputs": [
    {
     "data": {
      "text/plain": [
       "104.0"
      ]
     },
     "execution_count": 3,
     "metadata": {},
     "output_type": "execute_result"
    }
   ],
   "source": [
    "celsius_to_fahr(40)"
   ]
  },
  {
   "cell_type": "code",
   "execution_count": 4,
   "id": "d7c39f3c-bb49-435d-bfde-351dd5e32ba7",
   "metadata": {},
   "outputs": [
    {
     "data": {
      "text/plain": [
       "32.0"
      ]
     },
     "execution_count": 4,
     "metadata": {},
     "output_type": "execute_result"
    }
   ],
   "source": [
    "celsius_to_fahr(0)"
   ]
  },
  {
   "cell_type": "code",
   "execution_count": 5,
   "id": "869d1b56-13b6-4868-957b-80b06770bdec",
   "metadata": {},
   "outputs": [],
   "source": [
    "def how_long(a_string):\n",
    "    print(len(a_string))"
   ]
  },
  {
   "cell_type": "code",
   "execution_count": 6,
   "id": "67c44274-aae3-4767-a735-322730a028eb",
   "metadata": {},
   "outputs": [
    {
     "name": "stdout",
     "output_type": "stream",
     "text": [
      "4\n"
     ]
    }
   ],
   "source": [
    "how_long('abcd')"
   ]
  },
  {
   "cell_type": "code",
   "execution_count": 7,
   "id": "35de2f33-92ec-426f-9c0a-729e51533a38",
   "metadata": {},
   "outputs": [],
   "source": [
    "def how_long(a_string):\n",
    "    len(a_string)"
   ]
  },
  {
   "cell_type": "code",
   "execution_count": 8,
   "id": "022bdab1-1dd6-4b12-b5fd-2582dd45f502",
   "metadata": {},
   "outputs": [],
   "source": [
    "how_long('abcde')"
   ]
  },
  {
   "cell_type": "code",
   "execution_count": 9,
   "id": "49d92885-b792-4dd0-822a-6fe816955f31",
   "metadata": {},
   "outputs": [],
   "source": [
    "def kelvins_to_celsius(temp_kelvins):\n",
    "    return temp_kelvins - 273.15"
   ]
  },
  {
   "cell_type": "code",
   "execution_count": 10,
   "id": "f831b9e8-60f5-49db-84ad-f1054428518c",
   "metadata": {},
   "outputs": [
    {
     "data": {
      "text/plain": [
       "-273.15"
      ]
     },
     "execution_count": 10,
     "metadata": {},
     "output_type": "execute_result"
    }
   ],
   "source": [
    "kelvins_to_celsius(temp_kelvins=0)"
   ]
  },
  {
   "cell_type": "code",
   "execution_count": 11,
   "id": "af3ba311-b376-4824-b1cc-8b9f9f6aa19d",
   "metadata": {},
   "outputs": [
    {
     "name": "stdout",
     "output_type": "stream",
     "text": [
      "Absolute zero in Celsius is: -273.15\n"
     ]
    }
   ],
   "source": [
    "print(\"Absolute zero in Celsius is:\", kelvins_to_celsius(0))"
   ]
  },
  {
   "cell_type": "code",
   "execution_count": 12,
   "id": "2cf19f2a-85c1-4301-87ab-2888a4400189",
   "metadata": {},
   "outputs": [],
   "source": [
    "def kelvins_to_fahr(temp_kelvins):\n",
    "    temp_celsius = kelvins_to_celsius(temp_kelvins)\n",
    "    temp_fahr = celsius_to_fahr(temp_celsius)\n",
    "    return temp_fahr"
   ]
  },
  {
   "cell_type": "code",
   "execution_count": 13,
   "id": "35083cad-47a1-4b6f-9df9-e37bd037fb71",
   "metadata": {},
   "outputs": [
    {
     "data": {
      "text/plain": [
       "-459.66999999999996"
      ]
     },
     "execution_count": 13,
     "metadata": {},
     "output_type": "execute_result"
    }
   ],
   "source": [
    "kelvins_to_fahr(0)"
   ]
  },
  {
   "cell_type": "code",
   "execution_count": 14,
   "id": "ab436a6f-86c6-4c74-81da-1f858196a60f",
   "metadata": {},
   "outputs": [],
   "source": [
    "def kelvins_to_celsius(temp_kelvins):\n",
    "    \"\"\"Convers temperature in Kelvins to degrees celsius.\"\"\"\n",
    "    return temp_kelvins - 273.15"
   ]
  },
  {
   "cell_type": "code",
   "execution_count": 15,
   "id": "ff1c9f30-07db-45ca-80f0-0edfe6f9e279",
   "metadata": {},
   "outputs": [
    {
     "data": {
      "text/plain": [
       "\u001b[0;31mSignature:\u001b[0m \u001b[0mkelvins_to_celsius\u001b[0m\u001b[0;34m(\u001b[0m\u001b[0mtemp_kelvins\u001b[0m\u001b[0;34m)\u001b[0m\u001b[0;34m\u001b[0m\u001b[0;34m\u001b[0m\u001b[0m\n",
       "\u001b[0;31mDocstring:\u001b[0m Convers temperature in Kelvins to degrees celsius.\n",
       "\u001b[0;31mFile:\u001b[0m      /tmp/ipykernel_1023841/522041369.py\n",
       "\u001b[0;31mType:\u001b[0m      function"
      ]
     },
     "metadata": {},
     "output_type": "display_data"
    }
   ],
   "source": [
    "kelvins_to_celsius?"
   ]
  },
  {
   "cell_type": "code",
   "execution_count": 16,
   "id": "518a943b-871c-4d1a-b4b0-a678ce5f2015",
   "metadata": {},
   "outputs": [
    {
     "data": {
      "text/plain": [
       "\u001b[0;31mSignature:\u001b[0m \u001b[0mkelvins_to_celsius\u001b[0m\u001b[0;34m(\u001b[0m\u001b[0mtemp_kelvins\u001b[0m\u001b[0;34m)\u001b[0m\u001b[0;34m\u001b[0m\u001b[0;34m\u001b[0m\u001b[0m\n",
       "\u001b[0;31mSource:\u001b[0m   \n",
       "\u001b[0;32mdef\u001b[0m \u001b[0mkelvins_to_celsius\u001b[0m\u001b[0;34m(\u001b[0m\u001b[0mtemp_kelvins\u001b[0m\u001b[0;34m)\u001b[0m\u001b[0;34m:\u001b[0m\u001b[0;34m\u001b[0m\n",
       "\u001b[0;34m\u001b[0m    \u001b[0;34m\"\"\"Convers temperature in Kelvins to degrees celsius.\"\"\"\u001b[0m\u001b[0;34m\u001b[0m\n",
       "\u001b[0;34m\u001b[0m    \u001b[0;32mreturn\u001b[0m \u001b[0mtemp_kelvins\u001b[0m \u001b[0;34m-\u001b[0m \u001b[0;36m273.15\u001b[0m\u001b[0;34m\u001b[0m\u001b[0;34m\u001b[0m\u001b[0m\n",
       "\u001b[0;31mFile:\u001b[0m      /tmp/ipykernel_1023841/522041369.py\n",
       "\u001b[0;31mType:\u001b[0m      function"
      ]
     },
     "metadata": {},
     "output_type": "display_data"
    }
   ],
   "source": [
    "kelvins_to_celsius??"
   ]
  },
  {
   "cell_type": "code",
   "execution_count": 17,
   "id": "4431401a-bc04-4283-8a4e-a6f4d853938c",
   "metadata": {},
   "outputs": [],
   "source": [
    "def kelvins_to_celsius(temp_kelvins):\n",
    "    \"\"\"Convers temperature in Kelvins to degrees celsius.\n",
    "    \n",
    "    Parameters\n",
    "    ----------\n",
    "    temp_kelvins: <numerical>\n",
    "        Temperature in Kelvins\n",
    "        \n",
    "    Returns\n",
    "    -------\n",
    "    <float>\n",
    "       Converted temperature\n",
    "    \n",
    "    \"\"\"\n",
    "    return temp_kelvins - 273.15"
   ]
  },
  {
   "cell_type": "code",
   "execution_count": 18,
   "id": "6b8d4edc-0162-4abf-942e-25088c316666",
   "metadata": {},
   "outputs": [
    {
     "data": {
      "text/plain": [
       "\u001b[0;31mSignature:\u001b[0m \u001b[0mkelvins_to_celsius\u001b[0m\u001b[0;34m(\u001b[0m\u001b[0mtemp_kelvins\u001b[0m\u001b[0;34m)\u001b[0m\u001b[0;34m\u001b[0m\u001b[0;34m\u001b[0m\u001b[0m\n",
       "\u001b[0;31mDocstring:\u001b[0m\n",
       "Convers temperature in Kelvins to degrees celsius.\n",
       "\n",
       "Parameters\n",
       "----------\n",
       "temp_kelvins: <numerical>\n",
       "    Temperature in Kelvins\n",
       "    \n",
       "Returns\n",
       "-------\n",
       "<float>\n",
       "   Converted temperature\n",
       "\u001b[0;31mFile:\u001b[0m      /tmp/ipykernel_1023841/1189373821.py\n",
       "\u001b[0;31mType:\u001b[0m      function"
      ]
     },
     "metadata": {},
     "output_type": "display_data"
    }
   ],
   "source": [
    "kelvins_to_celsius?"
   ]
  },
  {
   "cell_type": "markdown",
   "id": "4084f713-425c-4c00-bc00-beb03e0eed92",
   "metadata": {},
   "source": [
    "## Using modules and scripts"
   ]
  },
  {
   "cell_type": "code",
   "execution_count": 19,
   "id": "2e506ccf-ef30-49a2-ae8f-b51666d406a4",
   "metadata": {},
   "outputs": [
    {
     "name": "stdout",
     "output_type": "stream",
     "text": [
      "2023-08-23.ipynb                      2023-08-30-functions-scripts.ipynb\n",
      "2023-08-28-python-introduction.ipynb  temp_converter.py\n"
     ]
    }
   ],
   "source": [
    "%ls"
   ]
  },
  {
   "cell_type": "code",
   "execution_count": 20,
   "id": "04db2d8e-4004-4b5b-b6c8-4ad2e743af69",
   "metadata": {},
   "outputs": [
    {
     "data": {
      "text/plain": [
       "'/home/jupyter-serge/sessions'"
      ]
     },
     "execution_count": 20,
     "metadata": {},
     "output_type": "execute_result"
    }
   ],
   "source": [
    "%pwd"
   ]
  },
  {
   "cell_type": "code",
   "execution_count": 23,
   "id": "72514c36-0c1c-4051-88bb-65a13903224b",
   "metadata": {},
   "outputs": [],
   "source": [
    "from temp_converter import celsius_to_fahr"
   ]
  },
  {
   "cell_type": "code",
   "execution_count": 24,
   "id": "96689d5d-bd61-45f2-8eb0-92de7888532b",
   "metadata": {},
   "outputs": [
    {
     "name": "stdout",
     "output_type": "stream",
     "text": [
      "From our cool function\n"
     ]
    },
    {
     "data": {
      "text/plain": [
       "212.0"
      ]
     },
     "execution_count": 24,
     "metadata": {},
     "output_type": "execute_result"
    }
   ],
   "source": [
    "celsius_to_fahr(100)"
   ]
  },
  {
   "cell_type": "code",
   "execution_count": 25,
   "id": "b7e0faef-4289-4c7a-8c03-377d16452ee9",
   "metadata": {},
   "outputs": [],
   "source": [
    "import math"
   ]
  },
  {
   "cell_type": "code",
   "execution_count": null,
   "id": "02dc989e-47d7-4f2e-9cc1-580eb368229b",
   "metadata": {},
   "outputs": [],
   "source": []
  }
 ],
 "metadata": {
  "kernelspec": {
   "display_name": "Python 3 (ipykernel)",
   "language": "python",
   "name": "python3"
  },
  "language_info": {
   "codemirror_mode": {
    "name": "ipython",
    "version": 3
   },
   "file_extension": ".py",
   "mimetype": "text/x-python",
   "name": "python",
   "nbconvert_exporter": "python",
   "pygments_lexer": "ipython3",
   "version": "3.9.17"
  }
 },
 "nbformat": 4,
 "nbformat_minor": 5
}
